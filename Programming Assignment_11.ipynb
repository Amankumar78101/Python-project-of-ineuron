{
 "cells": [
  {
   "cell_type": "markdown",
   "id": "f9132095",
   "metadata": {},
   "source": [
    "# 1. Write a Python program to find words which are greater than given length k?"
   ]
  },
  {
   "cell_type": "code",
   "execution_count": 1,
   "id": "c91676bf",
   "metadata": {},
   "outputs": [
    {
     "name": "stdout",
     "output_type": "stream",
     "text": [
      "['sample', 'string', 'words']\n"
     ]
    }
   ],
   "source": [
    "def find_long_words(string, k):\n",
    "    # split the string into words\n",
    "    words = string.split()\n",
    "\n",
    "    # create a list of words that are longer than k\n",
    "    long_words = [word for word in words if len(word) > k]\n",
    "\n",
    "    return long_words\n",
    "string = \"This is a sample string with some long words\"\n",
    "k = 4\n",
    "\n",
    "long_words = find_long_words(string, k)\n",
    "print(long_words)\n"
   ]
  },
  {
   "cell_type": "markdown",
   "id": "392e2e2e",
   "metadata": {},
   "source": [
    "# 2. Write a Python program for removing i-th character from a string?"
   ]
  },
  {
   "cell_type": "code",
   "execution_count": 2,
   "id": "d6776182",
   "metadata": {},
   "outputs": [
    {
     "name": "stdout",
     "output_type": "stream",
     "text": [
      "Hello, orld!\n"
     ]
    }
   ],
   "source": [
    "def remove_char(string, i):\n",
    "    # slice the string from the beginning up to i\n",
    "    left = string[:i]\n",
    "\n",
    "    # slice the string from i+1 to the end\n",
    "    right = string[i+1:]\n",
    "\n",
    "    # concatenate the left and right parts of the string\n",
    "    new_string = left + right\n",
    "\n",
    "    return new_string\n",
    "string = \"Hello, World!\"\n",
    "i = 7\n",
    "\n",
    "new_string = remove_char(string, i)\n",
    "print(new_string)\n"
   ]
  },
  {
   "cell_type": "markdown",
   "id": "86024444",
   "metadata": {},
   "source": [
    "# 3. Write a Python program to split and join a string?"
   ]
  },
  {
   "cell_type": "code",
   "execution_count": 6,
   "id": "ce6529ca",
   "metadata": {},
   "outputs": [
    {
     "name": "stdout",
     "output_type": "stream",
     "text": [
      "split = ['This', 'is', 'a', 'sample', 'string']\n",
      "join = This is a sample string\n",
      "None\n"
     ]
    }
   ],
   "source": [
    "def split_and_join(string):\n",
    "    # split the string into words\n",
    "    words = string.split()\n",
    "    print('split =',words)\n",
    "\n",
    "    # join the words back together with a space between them\n",
    "    new_string = ' '.join(words)\n",
    "    print('join =',new_string)\n",
    "    \n",
    "string = \"This is a sample string\"\n",
    "\n",
    "new_string = split_and_join(string)\n",
    "print(new_string)\n"
   ]
  },
  {
   "cell_type": "markdown",
   "id": "8b5977d4",
   "metadata": {},
   "source": [
    "# 4. Write a Python to check if a given string is binary string or not?"
   ]
  },
  {
   "cell_type": "code",
   "execution_count": 7,
   "id": "fc41b686",
   "metadata": {},
   "outputs": [
    {
     "name": "stdout",
     "output_type": "stream",
     "text": [
      "True\n",
      "False\n"
     ]
    }
   ],
   "source": [
    "def is_binary_string(string):\n",
    "    # iterate over each character in the string\n",
    "    for char in string:\n",
    "        # if the character is not 0 or 1, the string is not binary\n",
    "        if char != '0' and char != '1':\n",
    "            return False\n",
    "\n",
    "    # if we've made it this far, the string is binary\n",
    "    return True\n",
    "string1 = \"101010101\"\n",
    "string2 = \"101010102\"\n",
    "\n",
    "print(is_binary_string(string1))  # True\n",
    "print(is_binary_string(string2))  # False\n"
   ]
  },
  {
   "cell_type": "markdown",
   "id": "89e56770",
   "metadata": {},
   "source": [
    "# 5. Write a Python program to find uncommon words from two Strings?"
   ]
  },
  {
   "cell_type": "code",
   "execution_count": 8,
   "id": "e32dd68b",
   "metadata": {},
   "outputs": [
    {
     "name": "stdout",
     "output_type": "stream",
     "text": [
      "{'a', 'another', 'sample'}\n"
     ]
    }
   ],
   "source": [
    "def uncommon_words(string1, string2):\n",
    "    # split each string into words\n",
    "    words1 = string1.split()\n",
    "    words2 = string2.split()\n",
    "\n",
    "    # create sets of words from each string\n",
    "    set1 = set(words1)\n",
    "    set2 = set(words2)\n",
    "\n",
    "    # find the words that are in one set but not the other\n",
    "    uncommon_words = (set1 - set2) | (set2 - set1)\n",
    "\n",
    "    return uncommon_words\n",
    "string1 = \"this is a sample string\"\n",
    "string2 = \"this is another string\"\n",
    "\n",
    "uncommon = uncommon_words(string1, string2)\n",
    "print(uncommon)\n",
    "\n"
   ]
  },
  {
   "cell_type": "markdown",
   "id": "adbb0647",
   "metadata": {},
   "source": [
    "# 6. Write a Python to find all duplicate characters in string?"
   ]
  },
  {
   "cell_type": "code",
   "execution_count": 9,
   "id": "03152f1c",
   "metadata": {},
   "outputs": [
    {
     "name": "stdout",
     "output_type": "stream",
     "text": [
      "{'l', 'o'}\n"
     ]
    }
   ],
   "source": [
    "def find_duplicate_chars(string):\n",
    "    # create a set to store the duplicate characters\n",
    "    duplicates = set()\n",
    "    # create a set to store the characters we've seen so far\n",
    "    seen = set()\n",
    "    # iterate over each character in the string\n",
    "    for char in string:\n",
    "        # if we've already seen this character, add it to the duplicates set\n",
    "        if char in seen:\n",
    "            duplicates.add(char)\n",
    "        # otherwise, add it to the seen set\n",
    "        else:\n",
    "            seen.add(char)\n",
    "\n",
    "    return duplicates\n",
    "string = \"hello world\"\n",
    "\n",
    "duplicates = find_duplicate_chars(string)\n",
    "print(duplicates)\n"
   ]
  },
  {
   "cell_type": "markdown",
   "id": "01cb5aa4",
   "metadata": {},
   "source": [
    "# 7. Write a Python Program to check if a string contains any special character?"
   ]
  },
  {
   "cell_type": "code",
   "execution_count": 10,
   "id": "b0623040",
   "metadata": {},
   "outputs": [
    {
     "name": "stdout",
     "output_type": "stream",
     "text": [
      "False\n",
      "True\n"
     ]
    }
   ],
   "source": [
    "import re\n",
    "\n",
    "def has_special_chars(string):\n",
    "    # define a regular expression pattern for special characters\n",
    "    pattern = r'[!@#$%^&*(),.?\":{}|<>]'\n",
    "\n",
    "    # search for the pattern in the string\n",
    "    match = re.search(pattern, string)\n",
    "\n",
    "    # if the pattern is found, the string has special characters\n",
    "    if match:\n",
    "        return True\n",
    "    else:\n",
    "        return False\n",
    "string1 = \"hello world\"\n",
    "string2 = \"hello@world\"\n",
    "\n",
    "print(has_special_chars(string1))  # False\n",
    "print(has_special_chars(string2))  # True\n"
   ]
  },
  {
   "cell_type": "code",
   "execution_count": null,
   "id": "aacafc21",
   "metadata": {},
   "outputs": [],
   "source": []
  }
 ],
 "metadata": {
  "kernelspec": {
   "display_name": "Python 3 (ipykernel)",
   "language": "python",
   "name": "python3"
  },
  "language_info": {
   "codemirror_mode": {
    "name": "ipython",
    "version": 3
   },
   "file_extension": ".py",
   "mimetype": "text/x-python",
   "name": "python",
   "nbconvert_exporter": "python",
   "pygments_lexer": "ipython3",
   "version": "3.9.13"
  }
 },
 "nbformat": 4,
 "nbformat_minor": 5
}
