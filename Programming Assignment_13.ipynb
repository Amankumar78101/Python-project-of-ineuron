{
 "cells": [
  {
   "cell_type": "markdown",
   "id": "10b4bd21",
   "metadata": {},
   "source": [
    "# Question 1:\n",
    "### Write a program that calculates and prints the value according to the given formula:\n",
    "\n",
    "### Q = Square root of [(2 * C * D)/H]\n",
    "\n",
    "### Following are the fixed values of C and H:\n",
    "\n",
    "### C is 50. H is 30.\n",
    "\n",
    "### D is the variable whose values should be input to your program in a comma-separated sequence.\n",
    "\n",
    "## Example\n",
    "\n",
    "### Let us assume the following comma separated input sequence is given to the program:\n",
    "### 100,150,180\n",
    "### The output of the program should be:\n",
    "### 18,22,24"
   ]
  },
  {
   "cell_type": "code",
   "execution_count": 1,
   "id": "d82600a4",
   "metadata": {},
   "outputs": [
    {
     "name": "stdout",
     "output_type": "stream",
     "text": [
      "Enter the values of D separated by commas: 100,150,180\n",
      "18,22,24\n"
     ]
    }
   ],
   "source": [
    "import math\n",
    "\n",
    "C = 50\n",
    "H = 30\n",
    "\n",
    "def calculate_Q(D):\n",
    "    return int(math.sqrt((2 * C * D) / H))\n",
    "\n",
    "D_values = input(\"Enter the values of D separated by commas: \")\n",
    "D_list = D_values.split(',')\n",
    "\n",
    "result_list = []\n",
    "for D in D_list:\n",
    "    result_list.append(str(calculate_Q(int(D))))\n",
    "\n",
    "result = ','.join(result_list)\n",
    "print(result)\n"
   ]
  },
  {
   "cell_type": "markdown",
   "id": "0ee0ad07",
   "metadata": {},
   "source": [
    "# Question 2:\n",
    "## Write a program which takes 2 digits, X,Y as input and generates a 2-dimensional array.The element value in the i-th row and j-th column of the array should be i*j.\n",
    "\n",
    "### Note: i=0,1.., X-1; j=0,1,¡Y-1.\n",
    "\n",
    "# Example\n",
    "\n",
    "### Suppose the following inputs are given to the program:\n",
    "3,5\n",
    "### Then, the output of the program should be:\n",
    "### [[0, 0, 0, 0, 0], [0, 1, 2, 3, 4], [0, 2, 4, 6, 8]]"
   ]
  },
  {
   "cell_type": "code",
   "execution_count": 2,
   "id": "9f6684de",
   "metadata": {},
   "outputs": [
    {
     "name": "stdout",
     "output_type": "stream",
     "text": [
      "Enter X and Y separated by a comma: 3,5\n",
      "[[0, 0, 0, 0, 0], [0, 1, 2, 3, 4], [0, 2, 4, 6, 8]]\n"
     ]
    }
   ],
   "source": [
    "X,Y = map(int, input(\"Enter X and Y separated by a comma: \").split(\",\"))\n",
    "\n",
    "# Create an empty list to hold the rows of the array\n",
    "result = []\n",
    "\n",
    "# Loop through each row and column and append the product of i and j to the row list\n",
    "for i in range(X):\n",
    "    row = []\n",
    "    for j in range(Y):\n",
    "        row.append(i*j)\n",
    "    result.append(row)\n",
    "\n",
    "# Print the resulting 2-dimensional array\n",
    "print(result)\n"
   ]
  },
  {
   "cell_type": "markdown",
   "id": "73496033",
   "metadata": {},
   "source": [
    "# Question 3:\n",
    "### Write a program that accepts a comma separated sequence of words as input and prints the words in a comma-separated sequence after sorting them alphabetically.\n",
    "### Suppose the following input is supplied to the program:\n",
    "### without,hello,bag,world\n",
    "### Then, the output should be:\n",
    "### bag,hello,without,world"
   ]
  },
  {
   "cell_type": "code",
   "execution_count": 4,
   "id": "37adaf02",
   "metadata": {},
   "outputs": [
    {
     "name": "stdout",
     "output_type": "stream",
     "text": [
      "Enter a comma-separated sequence of words: without,hello,bag,world\n",
      "bag,hello,without,world\n"
     ]
    }
   ],
   "source": [
    "input_str = input(\"Enter a comma-separated sequence of words: \")\n",
    "\n",
    "# Split the input string into a list of words\n",
    "words_list = input_str.split(\",\")\n",
    "\n",
    "# Sort the list of words alphabetically\n",
    "sorted_list = sorted(words_list)\n",
    "\n",
    "# Join the sorted list of words back into a comma-separated string\n",
    "output_str = \",\".join(sorted_list)\n",
    "\n",
    "# Print the sorted list of words\n",
    "print(output_str)\n"
   ]
  },
  {
   "cell_type": "markdown",
   "id": "569c08d1",
   "metadata": {},
   "source": [
    "# Question 4:\n",
    "### Write a program that accepts a sequence of whitespace separated words as input and prints the words after removing all duplicate words and sorting them alphanumerically.\n",
    "### Suppose the following input is supplied to the program:\n",
    "### hello world and practice makes perfect and hello world again\n",
    "### Then, the output should be:\n",
    "### again and hello makes perfect practice world"
   ]
  },
  {
   "cell_type": "code",
   "execution_count": 9,
   "id": "15c1ec3c",
   "metadata": {},
   "outputs": [
    {
     "name": "stdout",
     "output_type": "stream",
     "text": [
      "Enter a whitespace-separated sequence of words = hello world and practice makes perfect and hello world again\n"
     ]
    },
    {
     "data": {
      "text/plain": [
       "'again and hello makes perfect practice world'"
      ]
     },
     "execution_count": 9,
     "metadata": {},
     "output_type": "execute_result"
    }
   ],
   "source": [
    "def sorted_unique_words():\n",
    "    input_str = input(\"Enter a whitespace-separated sequence of words = \")\n",
    "\n",
    "    # Split the input string into a list of words\n",
    "    words_list = input_str.split()\n",
    "\n",
    "    # Remove duplicate words from the list\n",
    "    # Sort the list of unique words alphabetically\n",
    "    unique_words_list = sorted(list(set(words_list)))\n",
    "\n",
    "    # Join the sorted list of words back into a whitespace-separated string\n",
    "    output_str = \" \".join(sorted_list)\n",
    "\n",
    "    # Print the sorted list of words\n",
    "    return output_str\n",
    "sorted_unique_words()"
   ]
  },
  {
   "cell_type": "markdown",
   "id": "a413f176",
   "metadata": {},
   "source": [
    "# Question 5:\n",
    "### Write a program that accepts a sentence and calculate the number of letters and digits.\n",
    "### Suppose the following input is supplied to the program:\n",
    "### hello world! 123\n",
    "### Then, the output should be:\n",
    "### LETTERS 10\n",
    "\n",
    "### DIGITS 3"
   ]
  },
  {
   "cell_type": "code",
   "execution_count": null,
   "id": "545add87",
   "metadata": {},
   "outputs": [],
   "source": [
    "def:\n",
    "    sentence = input(\"Enter a sentence: \")\n",
    "    letter_count = 0\n",
    "    digit_count = 0\n",
    "\n",
    "    for char in sentence:\n",
    "        if char.isalpha():\n",
    "            letter_count += 1\n",
    "        elif char.isdigit():\n",
    "            digit_count += 1\n",
    "\n",
    "    print(\"LETTERS\", letter_count)\n",
    "    print(\"DIGITS\", digit_count)\n"
   ]
  },
  {
   "cell_type": "markdown",
   "id": "b4f49b27",
   "metadata": {},
   "source": [
    "# Question 6:\n",
    "### A website requires the users to input username and password to register. Write a program to check the validity of password input by users.\n",
    "### Following are the criteria for checking the password:\n",
    "### 1. At least 1 letter between [a-z]\n",
    "### 2. At least 1 number between [0-9]\n",
    "### 1. At least 1 letter between [A-Z]\n",
    "### 3. At least 1 character from [$#@]\n",
    "### 4. Minimum length of transaction password: 6\n",
    "### 5. Maximum length of transaction password: 12\n",
    "### Your program should accept a sequence of comma separated passwords and will check them according to the above criteria. Passwords that match the criteria are to be printed, each separated by a comma.\n",
    "### Example\n",
    "### If the following passwords are given as input to the program:\n",
    "### ABd1234@1,a F1#,2w3E*,2We3345\n",
    "### Then, the output of the program should be:\n",
    "### ABd1234@1"
   ]
  },
  {
   "cell_type": "code",
   "execution_count": 10,
   "id": "312316f3",
   "metadata": {},
   "outputs": [
    {
     "name": "stdout",
     "output_type": "stream",
     "text": [
      "Enter comma separated passwords: ABd1234@1,a F1#,2w3E*,2We3345\n",
      "ABd1234@1\n"
     ]
    }
   ],
   "source": [
    "import re\n",
    "\n",
    "passwords = input(\"Enter comma separated passwords: \").split(',')\n",
    "\n",
    "valid_passwords = []\n",
    "\n",
    "for password in passwords:\n",
    "    if len(password) < 6 or len(password) > 12:\n",
    "        continue\n",
    "\n",
    "    if not re.search(\"[a-z]\", password):\n",
    "        continue\n",
    "\n",
    "    if not re.search(\"[A-Z]\", password):\n",
    "        continue\n",
    "\n",
    "    if not re.search(\"[0-9]\", password):\n",
    "        continue\n",
    "\n",
    "    if not re.search(\"[$#@]\", password):\n",
    "        continue\n",
    "\n",
    "    valid_passwords.append(password)\n",
    "\n",
    "print(\",\".join(valid_passwords))\n"
   ]
  },
  {
   "cell_type": "code",
   "execution_count": null,
   "id": "c953f0bf",
   "metadata": {},
   "outputs": [],
   "source": []
  }
 ],
 "metadata": {
  "kernelspec": {
   "display_name": "Python 3 (ipykernel)",
   "language": "python",
   "name": "python3"
  },
  "language_info": {
   "codemirror_mode": {
    "name": "ipython",
    "version": 3
   },
   "file_extension": ".py",
   "mimetype": "text/x-python",
   "name": "python",
   "nbconvert_exporter": "python",
   "pygments_lexer": "ipython3",
   "version": "3.9.13"
  }
 },
 "nbformat": 4,
 "nbformat_minor": 5
}
