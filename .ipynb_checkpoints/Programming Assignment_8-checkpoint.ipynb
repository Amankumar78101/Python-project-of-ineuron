{
 "cells": [
  {
   "cell_type": "markdown",
   "id": "5a89ff7a",
   "metadata": {},
   "source": [
    "## 1. Write a Python Program to Add Two Matrices?"
   ]
  },
  {
   "cell_type": "code",
   "execution_count": 2,
   "id": "d130a15b",
   "metadata": {},
   "outputs": [
    {
     "data": {
      "text/plain": [
       "[[10, 10, 10], [10, 10, 10], [10, 10, 10]]"
      ]
     },
     "execution_count": 2,
     "metadata": {},
     "output_type": "execute_result"
    }
   ],
   "source": [
    "# function to add two matrices\n",
    "def add_matrices(matrix1, matrix2):\n",
    "    # get the dimensions of the matrices\n",
    "    rows = len(matrix1)\n",
    "    cols = len(matrix1[0])\n",
    "    # create an empty matrix to store the result\n",
    "    result = [[0 for j in range(cols)] for i in range(rows)]\n",
    "    # iterate over each element and add them\n",
    "    for i in range(rows):\n",
    "        for j in range(cols):\n",
    "            result[i][j] = matrix1[i][j] + matrix2[i][j]\n",
    "    return result\n",
    "\n",
    "# example usage\n",
    "matrix1 = [[1, 2, 3], [4, 5, 6], [7, 8, 9]]\n",
    "matrix2 = [[9, 8, 7], [6, 5, 4], [3, 2, 1]]\n",
    "add_matrices(matrix1, matrix2)\n",
    "\n"
   ]
  },
  {
   "cell_type": "markdown",
   "id": "3d75f130",
   "metadata": {},
   "source": [
    "## 2. Write a Python Program to Multiply Two Matrices?"
   ]
  },
  {
   "cell_type": "code",
   "execution_count": 5,
   "id": "33c65867",
   "metadata": {},
   "outputs": [
    {
     "data": {
      "text/plain": [
       "[[58, 64], [139, 154]]"
      ]
     },
     "execution_count": 5,
     "metadata": {},
     "output_type": "execute_result"
    }
   ],
   "source": [
    "# function to multiply two matrices\n",
    "def multiply_matrices(matrix1, matrix2):\n",
    "    # get the dimensions of the matrices\n",
    "    rows1, cols1 = len(matrix1), len(matrix1[0])\n",
    "    rows2, cols2 = len(matrix2), len(matrix2[0])\n",
    "    # check if the matrices can be multiplied\n",
    "    if cols1 != rows2:\n",
    "        return \"Matrices cannot be multiplied\"\n",
    "    # create an empty matrix to store the result\n",
    "    result = [[0 for j in range(cols2)] for i in range(rows1)]\n",
    "    # iterate over each element and multiply them\n",
    "    for i in range(rows1):\n",
    "        for j in range(cols2):\n",
    "            for k in range(cols1):\n",
    "                result[i][j] += matrix1[i][k] * matrix2[k][j]\n",
    "    return result\n",
    "\n",
    "# example usage\n",
    "matrix1 = [[1, 2, 3], [4, 5, 6]]\n",
    "matrix2 = [[7, 8], [9, 10], [11, 12]]\n",
    "multiply_matrices(matrix1, matrix2)\n",
    "\n"
   ]
  },
  {
   "cell_type": "markdown",
   "id": "deceb4ad",
   "metadata": {},
   "source": [
    "## 3. Write a Python Program to Transpose a Matrix?"
   ]
  },
  {
   "cell_type": "code",
   "execution_count": 7,
   "id": "93cea932",
   "metadata": {},
   "outputs": [
    {
     "data": {
      "text/plain": [
       "[[1, 4, 7], [2, 5, 8], [3, 6, 9]]"
      ]
     },
     "execution_count": 7,
     "metadata": {},
     "output_type": "execute_result"
    }
   ],
   "source": [
    "# function to transpose a matrix\n",
    "def transpose_matrix(matrix):\n",
    "    # get the dimensions of the matrix\n",
    "    rows = len(matrix)\n",
    "    cols = len(matrix[0])\n",
    "    # create an empty matrix to store the transpose\n",
    "    transpose = [[0 for j in range(rows)] for i in range(cols)]\n",
    "    # iterate over each element and transpose it\n",
    "    for i in range(rows):\n",
    "        for j in range(cols):\n",
    "            transpose[j][i] = matrix[i][j]\n",
    "    return transpose\n",
    "\n",
    "# example usage\n",
    "matrix = [[1, 2, 3], [4, 5, 6], [7, 8, 9]]\n",
    "transpose_matrix(matrix)\n"
   ]
  },
  {
   "cell_type": "markdown",
   "id": "eebab5df",
   "metadata": {},
   "source": [
    "## 4. Write a Python Program to Sort Words in Alphabetic Order?"
   ]
  },
  {
   "cell_type": "code",
   "execution_count": 8,
   "id": "c90a9e94",
   "metadata": {},
   "outputs": [
    {
     "name": "stdout",
     "output_type": "stream",
     "text": [
      "a is string test this\n"
     ]
    }
   ],
   "source": [
    "# function to sort words in alphabetical order\n",
    "def sort_words(words):\n",
    "    # split the string into a list of words\n",
    "    words_list = words.split()\n",
    "    # sort the list of words\n",
    "    words_list.sort()\n",
    "    # join the sorted list of words into a string\n",
    "    sorted_words = ' '.join(words_list)\n",
    "    return sorted_words\n",
    "\n",
    "# example usage\n",
    "words = 'this is a test string'\n",
    "sorted_words = sort_words(words)\n",
    "print(sorted_words)\n"
   ]
  },
  {
   "cell_type": "markdown",
   "id": "195300b0",
   "metadata": {},
   "source": [
    "## 5. Write a Python Program to Remove Punctuation From a String?"
   ]
  },
  {
   "cell_type": "code",
   "execution_count": 9,
   "id": "94bccc8a",
   "metadata": {},
   "outputs": [
    {
     "name": "stdout",
     "output_type": "stream",
     "text": [
      "Hello World How are you doing today\n"
     ]
    }
   ],
   "source": [
    "import string\n",
    "\n",
    "# function to remove punctuation from a string\n",
    "def remove_punctuation(text):\n",
    "    # create a translation table with all punctuation characters mapped to None\n",
    "    translator = str.maketrans('', '', string.punctuation)\n",
    "    # use the translation table to remove punctuation from the text\n",
    "    text_without_punctuation = text.translate(translator)\n",
    "    return text_without_punctuation\n",
    "\n",
    "# example usage\n",
    "text = \"Hello, World! How are you doing today?\"\n",
    "text_without_punctuation = remove_punctuation(text)\n",
    "print(text_without_punctuation)\n"
   ]
  },
  {
   "cell_type": "code",
   "execution_count": null,
   "id": "88f141cf",
   "metadata": {},
   "outputs": [],
   "source": []
  }
 ],
 "metadata": {
  "kernelspec": {
   "display_name": "Python 3 (ipykernel)",
   "language": "python",
   "name": "python3"
  },
  "language_info": {
   "codemirror_mode": {
    "name": "ipython",
    "version": 3
   },
   "file_extension": ".py",
   "mimetype": "text/x-python",
   "name": "python",
   "nbconvert_exporter": "python",
   "pygments_lexer": "ipython3",
   "version": "3.9.13"
  }
 },
 "nbformat": 4,
 "nbformat_minor": 5
}
