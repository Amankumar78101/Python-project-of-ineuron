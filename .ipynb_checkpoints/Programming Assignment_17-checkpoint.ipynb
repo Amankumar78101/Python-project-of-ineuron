{
 "cells": [
  {
   "cell_type": "markdown",
   "id": "4db5cad9",
   "metadata": {},
   "source": [
    "#### 1.Create a function that takes three arguments a, b, c and returns the sum of the numbers that are evenly divided by c from the range a, b inclusive ?\n",
    "**Examples:**  \n",
    "`evenly_divisible(1, 10, 20) ➞ 0\n",
    "    # No number between 1 and 10 can be evenly divided by 20.\n",
    "evenly_divisible(1, 10, 2) ➞ 30\n",
    "    # 2 + 4 + 6 + 8 + 10 = 30\n",
    "evenly_divisible(1, 10, 3) ➞ 18\n",
    "    # 3 + 6 + 9 = 18` "
   ]
  },
  {
   "cell_type": "code",
   "execution_count": 12,
   "id": "9b3ca18d",
   "metadata": {},
   "outputs": [
    {
     "name": "stdout",
     "output_type": "stream",
     "text": [
      "1 10 20 = 0\n",
      "1 10 2 = 30\n",
      "1 10 3 = 18\n"
     ]
    }
   ],
   "source": [
    "def evenly_divisible(a,b,c):\n",
    "    divlist=[]\n",
    "    for i in range(a,b+1):\n",
    "        if i%c==0:\n",
    "            divlist.append(i) \n",
    "    print(a,b,c,'=',sum(divlist))\n",
    "evenly_divisible(1, 10, 20)\n",
    "evenly_divisible(1, 10, 2)\n",
    "evenly_divisible(1, 10, 3)"
   ]
  },
  {
   "cell_type": "markdown",
   "id": "44a86b4e",
   "metadata": {},
   "source": [
    "#### 2.Create a function that returns True if a given inequality expression is correct and False otherwise ?\n",
    "**Examples:**  \n",
    "`correct_signs(\"3 < 7 < 11\") ➞ True`  \n",
    "`correct_signs(\"13 > 44 > 33 > 1\") ➞ False`  \n",
    "`correct_signs(\"1 < 2 < 6 < 9 > 3\") ➞ True`"
   ]
  },
  {
   "cell_type": "code",
   "execution_count": 26,
   "id": "40ad509b",
   "metadata": {},
   "outputs": [
    {
     "name": "stdout",
     "output_type": "stream",
     "text": [
      "3 < 7 < 11 = True\n",
      "13 > 44 > 33 > 1 = False\n",
      "1 < 2 < 6 < 9 > 3 = True\n"
     ]
    }
   ],
   "source": [
    "def correct_signs(expr):\n",
    "    return f'{expr} = {eval(expr)}'\n",
    "\n",
    "print(correct_signs(\"3 < 7 < 11\"))\n",
    "print(correct_signs(\"13 > 44 > 33 > 1\"))\n",
    "print(correct_signs(\"1 < 2 < 6 < 9 > 3\"))"
   ]
  },
  {
   "cell_type": "markdown",
   "id": "cfb06b4f",
   "metadata": {},
   "source": [
    "#### 3.Create a function that replaces all the vowels in a string with a specified character ?\n",
    "**Examples:**  \n",
    "`replace_vowels(\"the aardvark\", \"#\") ➞ \"th# ##rdv#rk\"`  \n",
    "`replace_vowels(\"minnie mouse\", \"?\") ➞ \"m?nn?? m??s?\"`  \n",
    "`replace_vowels(\"shakespeare\", \"*\") ➞ \"shksp**r\"`"
   ]
  },
  {
   "cell_type": "code",
   "execution_count": 32,
   "id": "576d6cee",
   "metadata": {},
   "outputs": [
    {
     "name": "stdout",
     "output_type": "stream",
     "text": [
      "(the aardvark ,#) = th# ##rdv#rk\n",
      "(minnie mouse ,?) = m?nn?? m??s?\n",
      "(shakespeare ,*) = sh*k*sp**r*\n"
     ]
    }
   ],
   "source": [
    "def replace_vowels(word, char):\n",
    "    vowels = \"aeiouAEIOU\"\n",
    "    new_word = \"\"\n",
    "    for letter in word:\n",
    "        if letter in vowels:\n",
    "            new_word += char\n",
    "        else:\n",
    "            new_word += letter\n",
    "    return f\"({word} ,{char}) = {new_word}\"\n",
    "print(replace_vowels(\"the aardvark\", \"#\"))\n",
    "print(replace_vowels(\"minnie mouse\", \"?\"))\n",
    "print(replace_vowels(\"shakespeare\", \"*\"))"
   ]
  },
  {
   "cell_type": "markdown",
   "id": "dc2a1b95",
   "metadata": {},
   "source": [
    "#### 4.Write a function that calculates the factorial of a number recursively ?\n",
    "**Examples:**  \n",
    "`factorial(5) ➞ 120`  \n",
    "`factorial(3) ➞ 6`  \n",
    "`factorial(1) ➞ 1`  \n",
    "`factorial(0) ➞ 1`  "
   ]
  },
  {
   "cell_type": "code",
   "execution_count": 40,
   "id": "5452402d",
   "metadata": {},
   "outputs": [
    {
     "name": "stdout",
     "output_type": "stream",
     "text": [
      "120\n",
      "6\n",
      "1\n",
      "1\n"
     ]
    }
   ],
   "source": [
    "def factorial(n):\n",
    "    if n == 0 or n == 1:\n",
    "        return 1\n",
    "    else:\n",
    "        return  n * factorial(n-1)\n",
    "print(factorial(5)) # Output: 120\n",
    "print(factorial(3)) # Output: 6\n",
    "print(factorial(1)) # Output: 1\n",
    "print(factorial(0)) # Output: 1\n"
   ]
  },
  {
   "cell_type": "markdown",
   "id": "28f6a50b",
   "metadata": {},
   "source": [
    "# "
   ]
  }
 ],
 "metadata": {
  "kernelspec": {
   "display_name": "Python 3 (ipykernel)",
   "language": "python",
   "name": "python3"
  },
  "language_info": {
   "codemirror_mode": {
    "name": "ipython",
    "version": 3
   },
   "file_extension": ".py",
   "mimetype": "text/x-python",
   "name": "python",
   "nbconvert_exporter": "python",
   "pygments_lexer": "ipython3",
   "version": "3.9.13"
  }
 },
 "nbformat": 4,
 "nbformat_minor": 5
}
