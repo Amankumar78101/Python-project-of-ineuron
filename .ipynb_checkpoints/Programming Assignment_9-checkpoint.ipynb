{
 "cells": [
  {
   "cell_type": "markdown",
   "id": "dcd838a6",
   "metadata": {},
   "source": [
    "# 1. Write a Python program to check if the given number is a Disarium Number?"
   ]
  },
  {
   "cell_type": "code",
   "execution_count": 13,
   "id": "5e65cba0",
   "metadata": {},
   "outputs": [
    {
     "name": "stdout",
     "output_type": "stream",
     "text": [
      "175 is a Disarium number\n"
     ]
    }
   ],
   "source": [
    "# function to check if a number is a Disarium number\n",
    "def is_disarium_number(num):\n",
    "    # convert the number to a string to access its digits\n",
    "    str_num = str(num)\n",
    "    # get the number of digits in the number\n",
    "    n = len(str_num)\n",
    "    # calculate the sum of digits raised to the power of their positions\n",
    "    sum_of_digits = sum(int(str_num[i])** (i+1) for i in range(n))\n",
    "    # check if the sum is equal to the number itself\n",
    "    if sum_of_digits == num:\n",
    "        return True\n",
    "    else:\n",
    "        return False\n",
    "\n",
    "# example usage\n",
    "num = 175\n",
    "if is_disarium_number(num):\n",
    "    print(f\"{num} is a Disarium number\")\n",
    "else:\n",
    "    print(f\"{num} is not a Disarium number\")\n"
   ]
  },
  {
   "cell_type": "code",
   "execution_count": 12,
   "id": "988885ac",
   "metadata": {},
   "outputs": [
    {
     "name": "stdout",
     "output_type": "stream",
     "text": [
      "Enter a Number: 175\n",
      "1\n",
      "50\n",
      "175\n",
      "175 is a Disarium Number\n"
     ]
    }
   ],
   "source": [
    "Disarium_Number()"
   ]
  },
  {
   "cell_type": "markdown",
   "id": "2e6a18d7",
   "metadata": {},
   "source": [
    "## 2. Write a Python program to print all disarium numbers between 1 to 100?"
   ]
  },
  {
   "cell_type": "code",
   "execution_count": 17,
   "id": "62121bcc",
   "metadata": {},
   "outputs": [
    {
     "name": "stdout",
     "output_type": "stream",
     "text": [
      "Enter the upper limit of the range of numbers to check: 110\n",
      "Disarium numbers between 1 and 110 :\n",
      "1\n",
      "2\n",
      "3\n",
      "4\n",
      "5\n",
      "6\n",
      "7\n",
      "8\n",
      "9\n",
      "89\n"
     ]
    }
   ],
   "source": [
    "# function to check if a number is a Disarium number\n",
    "def is_disarium_number(num):\n",
    "    # convert the number to a string to access its digits\n",
    "    str_num = str(num)\n",
    "    # get the number of digits in the number\n",
    "    n = len(str_num)\n",
    "    # calculate the sum of digits raised to the power of their positions\n",
    "    sum_of_digits = sum(int(str_num[i])** (i+1) for i in range(n))\n",
    "    # check if the sum is equal to the number itself\n",
    "    if sum_of_digits == num:\n",
    "        return True\n",
    "    else:\n",
    "        return False\n",
    "\n",
    "# ask the user for the upper limit of the range of numbers to check\n",
    "p = int(input(\"Enter the upper limit of the range of numbers to check: \"))\n",
    "\n",
    "# find all Disarium numbers between 1 and p\n",
    "disarium_numbers = []\n",
    "for i in range(1, p+1):\n",
    "    if is_disarium_number(i):\n",
    "        disarium_numbers.append(i)\n",
    "\n",
    "# print the Disarium numbers\n",
    "print(\"Disarium numbers between 1 and\", p, \":\")\n",
    "for num in disarium_numbers:\n",
    "    print(num)\n"
   ]
  },
  {
   "cell_type": "markdown",
   "id": "724807c7",
   "metadata": {},
   "source": [
    "## 3. Write a Python program to check if the given number is Happy Number?"
   ]
  },
  {
   "cell_type": "code",
   "execution_count": 20,
   "id": "b4d2cb32",
   "metadata": {},
   "outputs": [
    {
     "name": "stdout",
     "output_type": "stream",
     "text": [
      "True\n",
      "True\n",
      "False\n"
     ]
    }
   ],
   "source": [
    "def happy_number(num):\n",
    "    \"\"\"\n",
    "    Returns True if the given number is a happy number, False otherwise.\n",
    "    \"\"\"\n",
    "    # initialize a set to keep track of sums seen before\n",
    "    seen_sums = set()\n",
    "    \n",
    "    while True:\n",
    "        # compute the sum of the squares of the digits\n",
    "        sum_of_squares = sum(int(digit)**2 for digit in str(num))\n",
    "        # if the sum is 1, the number is a happy number\n",
    "        if sum_of_squares == 1:\n",
    "            return True\n",
    "        # if the sum has been seen before, the number is not a happy number\n",
    "        elif sum_of_squares in seen_sums:\n",
    "            return False\n",
    "        # add the sum to the set of seen sums and continue iterating\n",
    "        else:\n",
    "            seen_sums.add(sum_of_squares)\n",
    "            num = sum_of_squares\n",
    "\n",
    "# test the function with some sample inputs\n",
    "print(happy_number(19))  # True\n",
    "print(happy_number(7))   # True\n",
    "print(happy_number(123)) # False\n",
    "\n",
    "    "
   ]
  },
  {
   "cell_type": "markdown",
   "id": "5a41c8e7",
   "metadata": {},
   "source": [
    "## 4. Write a Python program to print all happy numbers between 1 and 100?"
   ]
  },
  {
   "cell_type": "code",
   "execution_count": 38,
   "id": "5e405070",
   "metadata": {},
   "outputs": [
    {
     "name": "stdout",
     "output_type": "stream",
     "text": [
      "Enter the upper limit of the range of numbers to check: 100\n",
      "Happy numbers between 1 and 100 :\n",
      "1\n",
      "7\n",
      "10\n",
      "13\n",
      "19\n",
      "23\n",
      "28\n",
      "31\n",
      "32\n",
      "44\n",
      "49\n",
      "68\n",
      "70\n",
      "79\n",
      "82\n",
      "86\n",
      "91\n",
      "94\n",
      "97\n",
      "100\n"
     ]
    }
   ],
   "source": [
    "def is_happy_number(num):\n",
    "    \"\"\"\n",
    "    Returns True if the given number is a happy number, False otherwise.\n",
    "    \"\"\"\n",
    "    # initialize a set to keep track of sums seen before\n",
    "    seen_sums = set()\n",
    "    \n",
    "    while True:\n",
    "        # compute the sum of the squares of the digits\n",
    "        sum_of_squares = sum(int(digit)**2 for digit in str(num))\n",
    "        # if the sum is 1, the number is a happy number\n",
    "        if sum_of_squares == 1:\n",
    "            return True\n",
    "        # if the sum has been seen before, the number is not a happy number\n",
    "        elif sum_of_squares in seen_sums:\n",
    "            return False\n",
    "        # add the sum to the set of seen sums and continue iterating\n",
    "        else:\n",
    "            seen_sums.add(sum_of_squares)\n",
    "            num = sum_of_squares\n",
    "\n",
    "\n",
    "# ask the user for the upper limit of the range of numbers to check\n",
    "while True:\n",
    "    p = input(\"Enter the upper limit of the range of numbers to check: \")\n",
    "    if p.isdigit() and int(p) > 0:\n",
    "        p = int(p)\n",
    "        break\n",
    "    else:\n",
    "        print(\"Invalid input. Please enter a positive integer.\")\n",
    "\n",
    "# find all Disarium numbers between 1 and p\n",
    "happy_numbers = []\n",
    "for i in range(1, p+1):\n",
    "    if is_happy_number(i):\n",
    "        happy_numbers.append(i)\n",
    "\n",
    "# print the Disarium numbers\n",
    "print(\"Happy numbers between 1 and\", p, \":\")\n",
    "for num in happy_numbers:\n",
    "    print(num)\n"
   ]
  },
  {
   "cell_type": "markdown",
   "id": "9195344e",
   "metadata": {},
   "source": [
    "## 5. Write a Python program to determine whether the given number is a Harshad Number?"
   ]
  },
  {
   "cell_type": "code",
   "execution_count": 36,
   "id": "42b33d15",
   "metadata": {},
   "outputs": [
    {
     "name": "stdout",
     "output_type": "stream",
     "text": [
      "True\n",
      "False\n"
     ]
    }
   ],
   "source": [
    "def is_harshad_number(num):\n",
    "    \"\"\"\n",
    "    Returns True if the given number is a Harshad number, False otherwise.\n",
    "    \"\"\"\n",
    "    # compute the sum of the digits\n",
    "    sum_of_digits = sum(int(digit) for digit in str(num))\n",
    "    # check if the number is divisible by the sum of its digits\n",
    "    if num % sum_of_digits == 0:\n",
    "        return True\n",
    "    else:\n",
    "        return False\n",
    "\n",
    "# test the function with some sample inputs\n",
    "print(is_harshad_number(18))  # True\n",
    "print(is_harshad_number(25))  # False\n"
   ]
  },
  {
   "cell_type": "markdown",
   "id": "46c6402f",
   "metadata": {},
   "source": [
    "## 6. Write a Python program to print all pronic numbers between 1 and 100?"
   ]
  },
  {
   "cell_type": "code",
   "execution_count": 39,
   "id": "ff45349e",
   "metadata": {},
   "outputs": [
    {
     "name": "stdout",
     "output_type": "stream",
     "text": [
      "Harshad numbers between 1 and 100 :\n",
      "1\n",
      "2\n",
      "3\n",
      "4\n",
      "5\n",
      "6\n",
      "7\n",
      "8\n",
      "9\n",
      "10\n",
      "12\n",
      "18\n",
      "20\n",
      "21\n",
      "24\n",
      "27\n",
      "30\n",
      "36\n",
      "40\n",
      "42\n",
      "45\n",
      "48\n",
      "50\n",
      "54\n",
      "60\n",
      "63\n",
      "70\n",
      "72\n",
      "80\n",
      "81\n",
      "84\n",
      "90\n",
      "100\n"
     ]
    }
   ],
   "source": [
    "def is_harshad_number(num):\n",
    "    \"\"\"\n",
    "    Returns True if the given number is a Harshad number, False otherwise.\n",
    "    \"\"\"\n",
    "    # compute the sum of the digits\n",
    "    sum_of_digits = sum(int(digit) for digit in str(num))\n",
    "    # check if the number is divisible by the sum of its digits\n",
    "    if num % sum_of_digits == 0:\n",
    "        return True\n",
    "    else:\n",
    "        return False\n",
    "    \n",
    "# find all Harshad numbers between 1 and p\n",
    "harshad_numbers = []\n",
    "for i in range(1, p+1):\n",
    "    if is_harshad_number(i):\n",
    "        harshad_numbers.append(i)\n",
    "\n",
    "# print the Harshad numbers\n",
    "print(\"Harshad numbers between 1 and\", p, \":\")\n",
    "for num in harshad_numbers:\n",
    "    print(num)\n"
   ]
  },
  {
   "cell_type": "code",
   "execution_count": 41,
   "id": "e80320ba",
   "metadata": {},
   "outputs": [
    {
     "data": {
      "text/plain": [
       "True"
      ]
     },
     "execution_count": 41,
     "metadata": {},
     "output_type": "execute_result"
    }
   ],
   "source": []
  },
  {
   "cell_type": "code",
   "execution_count": null,
   "id": "e424c5a7",
   "metadata": {},
   "outputs": [],
   "source": []
  }
 ],
 "metadata": {
  "kernelspec": {
   "display_name": "Python 3 (ipykernel)",
   "language": "python",
   "name": "python3"
  },
  "language_info": {
   "codemirror_mode": {
    "name": "ipython",
    "version": 3
   },
   "file_extension": ".py",
   "mimetype": "text/x-python",
   "name": "python",
   "nbconvert_exporter": "python",
   "pygments_lexer": "ipython3",
   "version": "3.9.13"
  }
 },
 "nbformat": 4,
 "nbformat_minor": 5
}
