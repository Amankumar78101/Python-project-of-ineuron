{
 "cells": [
  {
   "cell_type": "code",
   "execution_count": 1,
   "id": "8c74cc31",
   "metadata": {},
   "outputs": [
    {
     "name": "stdout",
     "output_type": "stream",
     "text": [
      "Answer = \n"
     ]
    }
   ],
   "source": [
    "#1. To what does a relative path refer?\n",
    "print(\"Answer =  The relative path is the path to some file with respect to your current working directory. \")"
   ]
  },
  {
   "cell_type": "code",
   "execution_count": 14,
   "id": "90b6aacd",
   "metadata": {},
   "outputs": [
    {
     "name": "stdout",
     "output_type": "stream",
     "text": [
      "Answer = An absolute path is defined as the specifying the location of a file or directory from the root directory(/).\n",
      "         In other words we can say absolute path is a complete path from start of actual filesystem from / directory.\n"
     ]
    }
   ],
   "source": [
    "#2. What does an absolute path start with your operating system?\n",
    "\n",
    "print(\"\"\"Answer = An absolute path is defined as the specifying the location of a file or directory from the root directory(/).\n",
    "         In other words we can say absolute path is a complete path from start of actual filesystem from / directory.\"\"\")"
   ]
  },
  {
   "cell_type": "code",
   "execution_count": 16,
   "id": "796bcabc",
   "metadata": {},
   "outputs": [
    {
     "name": "stdout",
     "output_type": "stream",
     "text": [
      "Answer = os.getcwd() method tells us the location of current working directory (CWD). Whereas os.chdir() method in \n",
      "         Python used to change the current working directory to specified path. These functions are similar to linux commands\n",
      "         pwd and cd \n"
     ]
    }
   ],
   "source": [
    "#3. What do the functions os.getcwd() and os.chdir() do?\n",
    "\n",
    "print(\"\"\"Answer = os.getcwd() method tells us the location of current working directory (CWD). Whereas os.chdir() method in \n",
    "         Python used to change the current working directory to specified path. These functions are similar to linux commands\n",
    "         pwd and cd \"\"\")"
   ]
  },
  {
   "cell_type": "code",
   "execution_count": 10,
   "id": "019973ff",
   "metadata": {},
   "outputs": [
    {
     "name": "stdout",
     "output_type": "stream",
     "text": [
      "Answer = \n"
     ]
    }
   ],
   "source": [
    "#4. What are the . and .. folders?\n",
    "\n",
    "print(\"Answer =\")"
   ]
  },
  {
   "cell_type": "code",
   "execution_count": 18,
   "id": "d1d8230c",
   "metadata": {},
   "outputs": [
    {
     "name": "stdout",
     "output_type": "stream",
     "text": [
      "Answer =  For C:\bacon\\eggs\\spam.txt\n",
      "         The dir name is C:\\bacon\\eggs\n",
      "         The Base name is spam.txt\n",
      "C:\\bacon\\eggs\n",
      "spam.txt\n"
     ]
    }
   ],
   "source": [
    "#5. In C:\\bacon\\eggs\\spam.txt, which part is the dir name, and which part is the base name?\n",
    "\n",
    "print(\"\"\"Answer =  For C:\\bacon\\eggs\\spam.txt\n",
    "         The dir name is C:\\\\bacon\\\\eggs\n",
    "         The Base name is spam.txt\"\"\")\n",
    "\n",
    "import os\n",
    "path = r'C:\\bacon\\eggs\\spam.txt'\n",
    "print(os.path.dirname(path))\n",
    "print(os.path.basename(path))"
   ]
  },
  {
   "cell_type": "code",
   "execution_count": 23,
   "id": "2be1b5c1",
   "metadata": {},
   "outputs": [
    {
     "name": "stdout",
     "output_type": "stream",
     "text": [
      "Answer = A file can be Accessed in python using open() function. open function takes two arguments filename and \n",
      "         mode of operation (optional). if mode is not provided the default mode of opening is read mode So, the syntax being: \n",
      "         open(filename, mode)\n",
      "\n",
      "        (1)‘r’ – Read Mode: This is the default mode for open().The file is opened and a pointer is positioned at the beginning\n",
      "            of the file’s content.\n",
      "            \n",
      "        (2)‘w’ – Write Mode: Using this mode will overwrite any existing content in a file. If the given file does not exist, a \n",
      "            new one will be created.\n",
      "            \n",
      "        (3)‘r+’ – Read/Write Mode: Use this mode if you need to simultaneously read and write to a file.\n",
      "        \n",
      "        (4)‘a’ – Append Mode: With this mode the user can append the data without overwriting any already existing data in the \n",
      "           file.\n",
      "           \n",
      "        (5)‘a+’ – Append and Read Mode: In this mode you can read and append the data without overwriting the original file.\n"
     ]
    }
   ],
   "source": [
    "#6. What are the three “mode” arguments that can be passed to the open() function?\n",
    "\n",
    "print(\"\"\"Answer = A file can be Accessed in python using open() function. open function takes two arguments filename and \n",
    "         mode of operation (optional). if mode is not provided the default mode of opening is read mode So, the syntax being: \n",
    "         open(filename, mode)\n",
    "\n",
    "        (1)‘r’ – Read Mode: This is the default mode for open().The file is opened and a pointer is positioned at the beginning\n",
    "            of the file’s content.\n",
    "            \n",
    "        (2)‘w’ – Write Mode: Using this mode will overwrite any existing content in a file. If the given file does not exist, a \n",
    "            new one will be created.\n",
    "            \n",
    "        (3)‘r+’ – Read/Write Mode: Use this mode if you need to simultaneously read and write to a file.\n",
    "        \n",
    "        (4)‘a’ – Append Mode: With this mode the user can append the data without overwriting any already existing data in the \n",
    "           file.\n",
    "           \n",
    "        (5)‘a+’ – Append and Read Mode: In this mode you can read and append the data without overwriting the original file.\"\"\")"
   ]
  },
  {
   "cell_type": "code",
   "execution_count": 26,
   "id": "08dcfb52",
   "metadata": {},
   "outputs": [
    {
     "name": "stdout",
     "output_type": "stream",
     "text": [
      "Answer = Using this mode will overwrite any existing content in a file. If the given file does not exist, a new one will\n",
      "         be created.\n"
     ]
    }
   ],
   "source": [
    "#7. What happens if an existing file is opened in write mode?\n",
    "\n",
    "print(\"\"\"Answer = Using this mode will overwrite any existing content in a file. If the given file does not exist, a new one will\n",
    "         be created.\"\"\")"
   ]
  },
  {
   "cell_type": "code",
   "execution_count": 30,
   "id": "7a738a81",
   "metadata": {},
   "outputs": [
    {
     "name": "stdout",
     "output_type": "stream",
     "text": [
      "Answer = The main difference is that read() will read the whole file at once and then print out the first characters \n",
      "         that take up as many bytes as you specify in the parenthesis\n",
      "\n",
      "         (1) Whereas the readline() that will read and print out only the first characters that take up as many bytes as you \n",
      "             specify in the parenthesis.You may want to use readline() when you're reading files that are too big for your RAM.\n",
      "             \n",
      "         (2) The read() would treat each character in the file separately, meaning that the iteration would happen for every \n",
      "             character.\n",
      "             \n",
      "         (3) The readline() function, on the other hand, only reads a single line of the file. This means that if the first \n",
      "             line of the file were three lines long, the readline() function would only parse (or iterate/operate) on the first \n",
      "             line of the file.\n"
     ]
    }
   ],
   "source": [
    "#8. How do you tell the difference between read() and readlines()?\n",
    "\n",
    "print(\"\"\"Answer = The main difference is that read() will read the whole file at once and then print out the first characters \n",
    "         that take up as many bytes as you specify in the parenthesis\n",
    "\n",
    "         (1) Whereas the readline() that will read and print out only the first characters that take up as many bytes as you \n",
    "             specify in the parenthesis.You may want to use readline() when you're reading files that are too big for your RAM.\n",
    "             \n",
    "         (2) The read() would treat each character in the file separately, meaning that the iteration would happen for every \n",
    "             character.\n",
    "             \n",
    "         (3) The readline() function, on the other hand, only reads a single line of the file. This means that if the first \n",
    "             line of the file were three lines long, the readline() function would only parse (or iterate/operate) on the first \n",
    "             line of the file.\"\"\")"
   ]
  },
  {
   "cell_type": "code",
   "execution_count": 29,
   "id": "7b3fd46d",
   "metadata": {},
   "outputs": [
    {
     "name": "stdout",
     "output_type": "stream",
     "text": [
      "Answer =  it contains key and values it represents dictionary.\n"
     ]
    }
   ],
   "source": [
    "#9. What data structure does a shelf value resemble?\n",
    "\n",
    "print(\"Answer =  it contains key and values it represents dictionary.\")"
   ]
  },
  {
   "cell_type": "code",
   "execution_count": null,
   "id": "e8826ba9",
   "metadata": {},
   "outputs": [],
   "source": []
  }
 ],
 "metadata": {
  "kernelspec": {
   "display_name": "Python 3 (ipykernel)",
   "language": "python",
   "name": "python3"
  },
  "language_info": {
   "codemirror_mode": {
    "name": "ipython",
    "version": 3
   },
   "file_extension": ".py",
   "mimetype": "text/x-python",
   "name": "python",
   "nbconvert_exporter": "python",
   "pygments_lexer": "ipython3",
   "version": "3.9.12"
  }
 },
 "nbformat": 4,
 "nbformat_minor": 5
}
