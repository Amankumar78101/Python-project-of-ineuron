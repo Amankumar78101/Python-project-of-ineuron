{
 "cells": [
  {
   "cell_type": "markdown",
   "id": "59b8abf0",
   "metadata": {},
   "source": [
    "#### 1.Create a function that takes a list of non-negative integers and strings and return a new list without the strings ?\n",
    "**Examples:**  \n",
    "`filter_list([1, 2, \"a\", \"b\"]) ➞ [1, 2]`  \n",
    "`filter_list([1, \"a\", \"b\", 0, 15]) ➞ [1, 0, 15]`  \n",
    "`filter_list([1, 2, \"aasf\", \"1\", \"123\", 123]) ➞ [1, 2, 123]`  "
   ]
  },
  {
   "cell_type": "code",
   "execution_count": 5,
   "id": "f4d57665",
   "metadata": {},
   "outputs": [
    {
     "name": "stdout",
     "output_type": "stream",
     "text": [
      "[1, 2, 'a', 'b'] = [1, 2]\n",
      "[1, 'a', 'b', 0, 15] = [1, 0, 15]\n",
      "[1, 2, 'aasf', '1', '123', 123] = [1, 2, 123]\n"
     ]
    }
   ],
   "source": [
    "def filter_list(lst):\n",
    "    return f\"{lst} = {[x for x in lst if isinstance(x, int)]}\"\n",
    "print(filter_list([1, 2, \"a\", \"b\"]))\n",
    "print(filter_list([1, \"a\", \"b\", 0, 15]))\n",
    "print(filter_list([1, 2, \"aasf\", \"1\", \"123\", 123]))"
   ]
  },
  {
   "cell_type": "markdown",
   "id": "b3e54a56",
   "metadata": {},
   "source": [
    "#### 2. The \"Reverser\" takes a string as input and returns that string in reverse order, with the opposite case ?\n",
    "**Examples:**  \n",
    "`reverse(\"Hello World\") ➞ \"DLROw OLLEh\"`  \n",
    "`reverse(\"ReVeRsE\") ➞ \"eSrEvEr\"`  \n",
    "`reverse(\"Radar\") ➞ \"RADAr\"`  "
   ]
  },
  {
   "cell_type": "code",
   "execution_count": 4,
   "id": "481ee8dd",
   "metadata": {},
   "outputs": [
    {
     "name": "stdout",
     "output_type": "stream",
     "text": [
      "Hello World = DLROw OLLEh\n",
      "ReVeRsE = eSrEvEr\n",
      "Radar = RADAr\n"
     ]
    }
   ],
   "source": [
    "def reverse(string):\n",
    "    return f\"{string} = {string[::-1].swapcase()}\"\n",
    "\n",
    "print(reverse(\"Hello World\"))\n",
    "print(reverse(\"ReVeRsE\"))\n",
    "print(reverse(\"Radar\"))"
   ]
  },
  {
   "cell_type": "markdown",
   "id": "6782be5c",
   "metadata": {},
   "source": [
    "#### 3.You can assign variables from lists like this:\n",
    "`lst = [1, 2, 3, 4, 5, 6]\n",
    "first = lst[0]\n",
    "middle = lst[1:-1]\n",
    "last = lst[-1]\n",
    "print(first) ➞ outputs 1\n",
    "print(middle) ➞ outputs [2, 3, 4, 5]\n",
    "print(last) ➞ outputs 6`  \n",
    "With Python 3, you can assign variables from lists in a much more succinct way. Create variables first, middle and last from the given list using destructuring assignment  \n",
    "(check the Resources tab for some examples), where:  \n",
    "`first ➞ 1\n",
    "middle ➞ [2, 3, 4, 5]\n",
    "last ➞ 6`  \n",
    "Your task is to unpack the list writeyourcodehere into three variables, being first,\n",
    "middle, and last, with middle being everything in between the first and last element. Then\n",
    "print all three variables."
   ]
  },
  {
   "cell_type": "code",
   "execution_count": 6,
   "id": "7cba5032",
   "metadata": {},
   "outputs": [
    {
     "name": "stdout",
     "output_type": "stream",
     "text": [
      "1\n",
      "[2, 3, 4, 5]\n",
      "6\n"
     ]
    }
   ],
   "source": [
    "lst = [1, 2, 3, 4, 5, 6]\n",
    "first, *middle, last = lst\n",
    "print(first)    # Output: 1\n",
    "print(middle)   # Output: [2, 3, 4, 5]\n",
    "print(last)     # Output: 6\n"
   ]
  },
  {
   "cell_type": "markdown",
   "id": "fbf868ce",
   "metadata": {},
   "source": [
    "#### 4.Write a function that calculates the factorial of a number recursively.\n",
    "**Examples:**  \n",
    "`factorial(5) ➞ 120`  \n",
    "`factorial(3) ➞ 6`  \n",
    "`factorial(1) ➞ 1`  \n",
    "`factorial(0) ➞ 1`  "
   ]
  },
  {
   "cell_type": "code",
   "execution_count": 9,
   "id": "9c7f0d50",
   "metadata": {},
   "outputs": [
    {
     "name": "stdout",
     "output_type": "stream",
     "text": [
      "120\n",
      "6\n",
      "1\n",
      "1\n"
     ]
    }
   ],
   "source": [
    "def factorial(n):\n",
    "    if n == 0 or n == 1:\n",
    "        return 1\n",
    "    else:\n",
    "        return n * factorial(n-1)\n",
    "print(factorial(5))\n",
    "print(factorial(3))\n",
    "print(factorial(1))\n",
    "print(factorial(0))\n"
   ]
  },
  {
   "cell_type": "markdown",
   "id": "487d7494",
   "metadata": {},
   "source": [
    "#### 5.Write a function that moves all elements of one type to the end of the list.\n",
    "**Examples:**    \n",
    "`move_to_end([1, 3, 2, 4, 4, 1], 1) ➞ [3, 2, 4, 4, 1, 1]`  \n",
    "    # Move all the 1s to the end of the array.    \n",
    "`move_to_end([7, 8, 9, 1, 2, 3, 4], 9) ➞ [7, 8, 1, 2, 3, 4, 9]`  \n",
    "`move_to_end([\"a\", \"a\", \"a\", \"b\"], \"a\") ➞ [\"b\", \"a\", \"a\", \"a\"]`  "
   ]
  },
  {
   "cell_type": "code",
   "execution_count": 15,
   "id": "83c6df19",
   "metadata": {},
   "outputs": [
    {
     "name": "stdout",
     "output_type": "stream",
     "text": [
      "([1, 3, 2, 4, 4, 1],1) = [3, 2, 4, 4, 1, 1] \n",
      " ([7, 8, 9, 1, 2, 3, 4],9) = [7, 8, 1, 2, 3, 4, 9] \n",
      " (['a', 'a', 'a', 'b'],a) = ['b', 'a', 'a', 'a']\n"
     ]
    }
   ],
   "source": [
    "def move_to_end(lst, element):\n",
    "    co=lst\n",
    "    count = lst.count(element)\n",
    "    lst = [e for e in lst if e != element]\n",
    "    lst.extend([element] * count)\n",
    "    return f\"({co},{element}) = {lst}\"\n",
    "print(move_to_end([1, 3, 2, 4, 4, 1], 1),'\\n',\n",
    "      move_to_end([7, 8, 9, 1, 2, 3, 4], 9),'\\n',\n",
    "      move_to_end([\"a\", \"a\", \"a\", \"b\"], \"a\")\n",
    "      \n",
    "     )"
   ]
  },
  {
   "cell_type": "code",
   "execution_count": null,
   "id": "022e81ba",
   "metadata": {},
   "outputs": [],
   "source": []
  }
 ],
 "metadata": {
  "kernelspec": {
   "display_name": "Python 3 (ipykernel)",
   "language": "python",
   "name": "python3"
  },
  "language_info": {
   "codemirror_mode": {
    "name": "ipython",
    "version": 3
   },
   "file_extension": ".py",
   "mimetype": "text/x-python",
   "name": "python",
   "nbconvert_exporter": "python",
   "pygments_lexer": "ipython3",
   "version": "3.9.13"
  }
 },
 "nbformat": 4,
 "nbformat_minor": 5
}
