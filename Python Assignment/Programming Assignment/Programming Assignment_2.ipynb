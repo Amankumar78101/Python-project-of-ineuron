{
 "cells": [
  {
   "cell_type": "markdown",
   "id": "a6474849",
   "metadata": {},
   "source": [
    "## 1. Write a Python program to convert kilometers to miles?"
   ]
  },
  {
   "cell_type": "code",
   "execution_count": 9,
   "id": "a83d9864",
   "metadata": {},
   "outputs": [
    {
     "name": "stdout",
     "output_type": "stream",
     "text": [
      "Enter distance in kilometers: 1\n",
      "1.0 kilometers is equal to 0.621371 miles\n"
     ]
    }
   ],
   "source": [
    "kilometers = float(input(\"Enter distance in kilometers: \"))\n",
    "\n",
    "#conversion factor\n",
    "conv_fac = 0.621371\n",
    "\n",
    "# calculate miles\n",
    "miles = kilometers * conv_fac\n",
    "\n",
    "# display the result\n",
    "print(f\"{kilometers} kilometers is equal to {miles} miles\")\n"
   ]
  },
  {
   "cell_type": "markdown",
   "id": "b239f5b5",
   "metadata": {},
   "source": [
    "## 2. Write a Python program to convert Celsius to Fahrenheit?"
   ]
  },
  {
   "cell_type": "code",
   "execution_count": 7,
   "id": "5e8ba486",
   "metadata": {},
   "outputs": [
    {
     "name": "stdout",
     "output_type": "stream",
     "text": [
      "Enter temperature in Celsius: 40\n",
      "40.0° degrees Celsius is equal to 104.0° degrees Fahrenheit\n"
     ]
    }
   ],
   "source": [
    "celsius = float(input(\"Enter temperature in Celsius: \"))\n",
    "\n",
    "# calculate fahrenheit\n",
    "fahrenheit = (celsius * 9/5) + 32\n",
    "\n",
    "# display the result\n",
    "print(f\"{celsius}° degrees Celsius is equal to {fahrenheit}° degrees Fahrenheit\")\n"
   ]
  },
  {
   "cell_type": "markdown",
   "id": "3ed7f6a4",
   "metadata": {},
   "source": [
    "## 3. Write a Python program to display calendar?"
   ]
  },
  {
   "cell_type": "code",
   "execution_count": 13,
   "id": "0fc50260",
   "metadata": {},
   "outputs": [
    {
     "name": "stdout",
     "output_type": "stream",
     "text": [
      "Enter year: 2022\n",
      "Enter month: \n",
      "11\n",
      "   November 2022\n",
      "Mo Tu We Th Fr Sa Su\n",
      "    1  2  3  4  5  6\n",
      " 7  8  9 10 11 12 13\n",
      "14 15 16 17 18 19 20\n",
      "21 22 23 24 25 26 27\n",
      "28 29 30\n",
      "\n"
     ]
    }
   ],
   "source": [
    "import calendar\n",
    "\n",
    "# ask for year and month\n",
    "year = int(input(\"Enter year: \"))\n",
    "month = int(input(\"Enter month: \\n\"))\n",
    "\n",
    "# display calendar\n",
    "print(calendar.month(year, month))\n"
   ]
  },
  {
   "cell_type": "markdown",
   "id": "79984cf6",
   "metadata": {},
   "source": [
    "## 4. Write a Python program to solve quadratic equation?"
   ]
  },
  {
   "cell_type": "code",
   "execution_count": 14,
   "id": "5cf565e0",
   "metadata": {},
   "outputs": [
    {
     "name": "stdout",
     "output_type": "stream",
     "text": [
      "Enter coefficient a: 1\n",
      "Enter coefficient b: 2\n",
      "Enter coefficient c: 1\n",
      "The solutions are (-1+0j) and (-1+0j)\n"
     ]
    }
   ],
   "source": [
    "import cmath\n",
    "\n",
    "# ask for coefficients of quadratic equation\n",
    "a = float(input(\"Enter coefficient a: \"))\n",
    "b = float(input(\"Enter coefficient b: \"))\n",
    "c = float(input(\"Enter coefficient c: \"))\n",
    "\n",
    "# calculate discriminant\n",
    "d = (b**2) - (4*a*c)\n",
    "\n",
    "# find two solutions\n",
    "sol1 = (-b - cmath.sqrt(d)) / (2*a)\n",
    "sol2 = (-b + cmath.sqrt(d)) / (2*a)\n",
    "\n",
    "# display the solutions\n",
    "print(f\"The solutions are {sol1} and {sol2}\")\n"
   ]
  },
  {
   "cell_type": "markdown",
   "id": "51cb9b63",
   "metadata": {},
   "source": [
    "## 5.Write a Python program to swap two variables without temp variable ?"
   ]
  },
  {
   "cell_type": "code",
   "execution_count": 18,
   "id": "8f3308d7",
   "metadata": {},
   "outputs": [
    {
     "name": "stdout",
     "output_type": "stream",
     "text": [
      "Before Swapping\n",
      "Enter A number: 10\n",
      "Enter B number: 20\n",
      "\n",
      "After Swapping\n",
      "a = 20\n",
      "b = 10\n"
     ]
    }
   ],
   "source": [
    "print('Before Swapping')\n",
    "# initial values\n",
    "a = int(input('Enter A number: '))\n",
    "b = int(input('Enter B number: '))\n",
    "\n",
    "# swapping using tuple packing and unpacking\n",
    "a, b = b, a\n",
    "\n",
    "print(\"\\nAfter Swapping\")\n",
    "# printing swapped values\n",
    "print(\"a =\", a)\n",
    "print(\"b =\", b)\n"
   ]
  },
  {
   "cell_type": "code",
   "execution_count": null,
   "id": "2e672693",
   "metadata": {},
   "outputs": [],
   "source": []
  }
 ],
 "metadata": {
  "kernelspec": {
   "display_name": "Python 3 (ipykernel)",
   "language": "python",
   "name": "python3"
  },
  "language_info": {
   "codemirror_mode": {
    "name": "ipython",
    "version": 3
   },
   "file_extension": ".py",
   "mimetype": "text/x-python",
   "name": "python",
   "nbconvert_exporter": "python",
   "pygments_lexer": "ipython3",
   "version": "3.9.13"
  }
 },
 "nbformat": 4,
 "nbformat_minor": 5
}
