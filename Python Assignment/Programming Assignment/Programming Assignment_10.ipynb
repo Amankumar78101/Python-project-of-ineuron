{
 "cells": [
  {
   "cell_type": "markdown",
   "id": "50222423",
   "metadata": {},
   "source": [
    "# 1. Write a Python program to find sum of elements in list?"
   ]
  },
  {
   "cell_type": "code",
   "execution_count": 42,
   "id": "d5eb90e7",
   "metadata": {},
   "outputs": [
    {
     "name": "stdout",
     "output_type": "stream",
     "text": [
      "Sum of all elements in given list:  30\n"
     ]
    }
   ],
   "source": [
    "total = 0\n",
    "  \n",
    "# creating a list\n",
    "list1 = [10 ,10,10]\n",
    "  \n",
    "\n",
    "for ele in range(0, len(list1)):\n",
    "    total = total + list1[ele]\n",
    "  \n",
    "\n",
    "print(\"Sum of all elements in given list: \", total)"
   ]
  },
  {
   "cell_type": "markdown",
   "id": "7460de2a",
   "metadata": {},
   "source": [
    "# 2. Write a Python program to Multiply all numbers in the list?"
   ]
  },
  {
   "cell_type": "code",
   "execution_count": 16,
   "id": "39bf8e94",
   "metadata": {},
   "outputs": [
    {
     "data": {
      "text/plain": [
       "1000"
      ]
     },
     "execution_count": 16,
     "metadata": {},
     "output_type": "execute_result"
    }
   ],
   "source": [
    "\n",
    "lists=10,10,10\n",
    "def Multiply_elements(number):\n",
    "    n=1\n",
    "    for i in range(0,len(number)):\n",
    "        n*=int(number[i])\n",
    "    return n\n",
    "Multiply_elements(lists)"
   ]
  },
  {
   "cell_type": "markdown",
   "id": "f816a8a8",
   "metadata": {},
   "source": [
    "#  3. Write a Python program to find smallest number in a list?"
   ]
  },
  {
   "cell_type": "code",
   "execution_count": 46,
   "id": "c9e47e52",
   "metadata": {},
   "outputs": [
    {
     "name": "stdout",
     "output_type": "stream",
     "text": [
      "10\n"
     ]
    }
   ],
   "source": [
    "my_list = [10,11,12]\n",
    "smallest_number = my_list[0]\n",
    "\n",
    "for number in my_list:\n",
    "    if number < smallest_number:\n",
    "        smallest_number = number\n",
    "        \n",
    "print(smallest_number)\n"
   ]
  },
  {
   "cell_type": "markdown",
   "id": "4b02faa7",
   "metadata": {},
   "source": [
    "# 4. Write a Python program to find largest number in a list?"
   ]
  },
  {
   "cell_type": "code",
   "execution_count": 48,
   "id": "c38119d8",
   "metadata": {},
   "outputs": [
    {
     "name": "stdout",
     "output_type": "stream",
     "text": [
      "12\n"
     ]
    }
   ],
   "source": [
    "my_list = [10,11,12]\n",
    "largest_number = my_list[0]\n",
    "\n",
    "for number in my_list:\n",
    "    if number > largest_number:\n",
    "        largest_number = number\n",
    "        \n",
    "print(smallest_number)"
   ]
  },
  {
   "cell_type": "markdown",
   "id": "cc7d058d",
   "metadata": {},
   "source": [
    "# 5. Write a Python program to find second largest number in a list?"
   ]
  },
  {
   "cell_type": "code",
   "execution_count": 49,
   "id": "2aa9659b",
   "metadata": {},
   "outputs": [
    {
     "name": "stdout",
     "output_type": "stream",
     "text": [
      "11\n"
     ]
    }
   ],
   "source": [
    "my_list =[10,11,12]\n",
    "largest_number = my_list[0]\n",
    "second_largest_number = None\n",
    "\n",
    "for number in my_list:\n",
    "    if number > largest_number:\n",
    "        second_largest_number = largest_number\n",
    "        largest_number = number\n",
    "    elif second_largest_number is None or number > second_largest_number:\n",
    "        second_largest_number = number\n",
    "        \n",
    "print(second_largest_number)\n"
   ]
  },
  {
   "cell_type": "markdown",
   "id": "59634508",
   "metadata": {},
   "source": [
    "# 6. Write a Python program to find N largest elements from a list?"
   ]
  },
  {
   "cell_type": "code",
   "execution_count": 52,
   "id": "725f877f",
   "metadata": {},
   "outputs": [
    {
     "name": "stdout",
     "output_type": "stream",
     "text": [
      "Enter the number of largest elements you want to find: 3\n",
      "[50, 40, 30]\n"
     ]
    }
   ],
   "source": [
    "import heapq\n",
    "\n",
    "my_list = [10, 50, 20, 40, 30]\n",
    "n_largest = int(input('Enter the number of largest elements you want to find: '))\n",
    "\n",
    "largest_elements = heapq.nlargest(n_largest, my_list)\n",
    "\n",
    "print(largest_elements)\n"
   ]
  },
  {
   "cell_type": "markdown",
   "id": "797f24d5",
   "metadata": {},
   "source": [
    "# 7. Write a Python program to print even numbers in a list?"
   ]
  },
  {
   "cell_type": "code",
   "execution_count": 56,
   "id": "a3b4a8da",
   "metadata": {},
   "outputs": [
    {
     "name": "stdout",
     "output_type": "stream",
     "text": [
      "2\n",
      "4\n",
      "6\n",
      "8\n",
      "10\n"
     ]
    }
   ],
   "source": [
    "def Even_num():\n",
    "    my_list = [1, 2, 3, 4, 5, 6, 7, 8, 9, 10]\n",
    "\n",
    "    for number in my_list:\n",
    "        if number % 2 == 0:\n",
    "            print(number)\n",
    "Even_num()"
   ]
  },
  {
   "cell_type": "markdown",
   "id": "49c4605c",
   "metadata": {},
   "source": [
    "# 8. Write a Python program to print odd numbers in a List?"
   ]
  },
  {
   "cell_type": "code",
   "execution_count": 57,
   "id": "97226c1b",
   "metadata": {},
   "outputs": [
    {
     "name": "stdout",
     "output_type": "stream",
     "text": [
      "1\n",
      "3\n",
      "5\n",
      "7\n",
      "9\n"
     ]
    }
   ],
   "source": [
    "def odd_num():\n",
    "    my_list = [1, 2, 3, 4, 5, 6, 7, 8, 9, 10]\n",
    "\n",
    "    for number in my_list:\n",
    "        if number % 2 == 1:\n",
    "            print(number)\n",
    "odd_num()"
   ]
  },
  {
   "cell_type": "markdown",
   "id": "bfdb91b5",
   "metadata": {},
   "source": [
    "# 9. Write a Python program to Remove empty List from List?"
   ]
  },
  {
   "cell_type": "code",
   "execution_count": 58,
   "id": "3375fb85",
   "metadata": {},
   "outputs": [
    {
     "name": "stdout",
     "output_type": "stream",
     "text": [
      "[1, 3, 5, 7]\n"
     ]
    }
   ],
   "source": [
    "my_list = [1, [], 3, [], 5, [], 7]\n",
    "\n",
    "# Use a list comprehension to filter out empty lists\n",
    "my_list = [elem for elem in my_list if elem]\n",
    "\n",
    "print(my_list)\n"
   ]
  },
  {
   "cell_type": "markdown",
   "id": "b8d495b3",
   "metadata": {},
   "source": [
    "# 10. Write a Python program to Cloning or Copying a list?"
   ]
  },
  {
   "cell_type": "code",
   "execution_count": 59,
   "id": "4bb36c1b",
   "metadata": {},
   "outputs": [
    {
     "name": "stdout",
     "output_type": "stream",
     "text": [
      "[1, 2, 3, 4, 5]\n"
     ]
    }
   ],
   "source": [
    "original_list = [1, 2, 3, 4, 5]\n",
    "cloned_list = original_list[:]\n",
    "print(cloned_list)\n"
   ]
  },
  {
   "cell_type": "markdown",
   "id": "1bb5ace6",
   "metadata": {},
   "source": [
    "\n",
    "# 11. Write a Python program to Count occurrences of an element in a list?"
   ]
  },
  {
   "cell_type": "code",
   "execution_count": 60,
   "id": "04ce512b",
   "metadata": {},
   "outputs": [
    {
     "name": "stdout",
     "output_type": "stream",
     "text": [
      "The element 2 occurs 3 times in the list.\n"
     ]
    }
   ],
   "source": [
    "my_list = [1, 2, 3, 2, 4, 2, 5, 6, 7, 8, 9, 9]\n",
    "element = 2\n",
    "count = my_list.count(element)\n",
    "print(f\"The element {element} occurs {count} times in the list.\")\n"
   ]
  },
  {
   "cell_type": "code",
   "execution_count": null,
   "id": "2f4e9e89",
   "metadata": {},
   "outputs": [],
   "source": []
  }
 ],
 "metadata": {
  "kernelspec": {
   "display_name": "Python 3 (ipykernel)",
   "language": "python",
   "name": "python3"
  },
  "language_info": {
   "codemirror_mode": {
    "name": "ipython",
    "version": 3
   },
   "file_extension": ".py",
   "mimetype": "text/x-python",
   "name": "python",
   "nbconvert_exporter": "python",
   "pygments_lexer": "ipython3",
   "version": "3.9.13"
  }
 },
 "nbformat": 4,
 "nbformat_minor": 5
}
