{
 "cells": [
  {
   "cell_type": "markdown",
   "id": "c4b6cefe",
   "metadata": {},
   "source": [
    "## 1. Write a Python Program to find LCM ?"
   ]
  },
  {
   "cell_type": "code",
   "execution_count": 2,
   "id": "d37db254",
   "metadata": {},
   "outputs": [
    {
     "name": "stdout",
     "output_type": "stream",
     "text": [
      "Enter first number: 3\n",
      "Enter second number: 6\n",
      "The LCM of 3 and 6 is 6\n"
     ]
    }
   ],
   "source": [
    "def gcd(x, y):\n",
    "    \"\"\"\n",
    "    This function returns the greatest common divisor (GCD)\n",
    "    of two numbers using the Euclidean algorithm.\n",
    "    \"\"\"\n",
    "    while y:\n",
    "        x, y = y, x % y\n",
    "    return x\n",
    "\n",
    "def lcm(x, y):\n",
    "    \"\"\"\n",
    "    This function returns the least common multiple (LCM)\n",
    "    of two numbers using the formula: LCM(x, y) = x * y / GCD(x, y)\n",
    "    \"\"\"\n",
    "    return (x * y) // gcd(x, y)\n",
    "\n",
    "num1 = int(input(\"Enter first number: \"))\n",
    "num2 = int(input(\"Enter second number: \"))\n",
    "\n",
    "print(\"The LCM of\", num1, \"and\", num2, \"is\", lcm(num1, num2))\n"
   ]
  },
  {
   "cell_type": "markdown",
   "id": "1b65fe8f",
   "metadata": {},
   "source": [
    "## 2. Write a Python Program to find HCF ?"
   ]
  },
  {
   "cell_type": "code",
   "execution_count": 3,
   "id": "2fb8ed3d",
   "metadata": {},
   "outputs": [
    {
     "name": "stdout",
     "output_type": "stream",
     "text": [
      "Enter first number: 6\n",
      "Enter second number: 12\n",
      "The HCF of 6 and 12 is 6\n"
     ]
    }
   ],
   "source": [
    "def hcf(num1, num2):\n",
    "    if num2 == 0:\n",
    "        return num1\n",
    "    else:\n",
    "        return hcf(num2, num1 % num2)\n",
    "\n",
    "# taking input from the user\n",
    "num1 = int(input(\"Enter first number: \"))\n",
    "num2 = int(input(\"Enter second number: \"))\n",
    "\n",
    "# finding the HCF and displaying the result\n",
    "print(\"The HCF of\", num1, \"and\", num2, \"is\", hcf(num1, num2))\n"
   ]
  },
  {
   "cell_type": "markdown",
   "id": "cec1760e",
   "metadata": {},
   "source": [
    "## 3. Write a Python Program to Convert Decimal to Binary, Octal and Hexadecimal ?\n"
   ]
  },
  {
   "cell_type": "code",
   "execution_count": 5,
   "id": "ba21e5a5",
   "metadata": {},
   "outputs": [
    {
     "name": "stdout",
     "output_type": "stream",
     "text": [
      "Enter a decimal number: 2030\n",
      "The binary equivalent of 2030 is 11111101110\n",
      "The octal equivalent of 2030 is 3756\n",
      "The hexadecimal equivalent of 2030 is 7ee\n"
     ]
    }
   ],
   "source": [
    "dec = int(input(\"Enter a decimal number: \"))\n",
    "\n",
    "def DecimalToOther(dec):\n",
    "    # converting to binary, octal and hexadecimal formats\n",
    "    binary = bin(dec).replace(\"0b\", \"\")\n",
    "    octal = oct(dec).replace(\"0o\", \"\")\n",
    "    hexadecimal = hex(dec).replace(\"0x\", \"\")\n",
    "    # displaying the results\n",
    "    print(\"The binary equivalent of\", dec, \"is\", binary)\n",
    "    print(\"The octal equivalent of\", dec, \"is\", octal)\n",
    "    print(\"The hexadecimal equivalent of\", dec, \"is\", hexadecimal)\n",
    "DecimalToOther(dec)"
   ]
  },
  {
   "cell_type": "markdown",
   "id": "25cc1305",
   "metadata": {},
   "source": [
    "## 4. Write a Python Program to Find the ASCII value of  a Character ?"
   ]
  },
  {
   "cell_type": "code",
   "execution_count": 6,
   "id": "7802d0c2",
   "metadata": {},
   "outputs": [
    {
     "name": "stdout",
     "output_type": "stream",
     "text": [
      "Enter a Character: @\n",
      "Ascii Character of @ is 64\n"
     ]
    }
   ],
   "source": [
    "def charToAscii():\n",
    "    char = input('Enter a Character: ')\n",
    "    if len(char) > 1:\n",
    "        print('Please Enter a Single Character')\n",
    "    else:\n",
    "        print(f'Ascii Character of {char} is {ord(char)}')\n",
    "\n",
    "charToAscii()"
   ]
  },
  {
   "cell_type": "markdown",
   "id": "1c78c2f9",
   "metadata": {},
   "source": [
    "## 5. Write a Python Program to Make a Simple Calculator with 4 basic mathematical operations?"
   ]
  },
  {
   "cell_type": "code",
   "execution_count": 7,
   "id": "aa782ee5",
   "metadata": {},
   "outputs": [
    {
     "name": "stdout",
     "output_type": "stream",
     "text": [
      "Select operation.\n",
      "1. Add\n",
      "2. Subtract\n",
      "3. Multiply\n",
      "4. Divide\n",
      "Enter choice (1/2/3/4): 1\n",
      "Enter first number: 1\n",
      "Enter second number: 20\n",
      "1.0 + 20.0 = 21.0\n"
     ]
    }
   ],
   "source": [
    "# Function to add two numbers\n",
    "def add(num1, num2):\n",
    "    return num1 + num2\n",
    "\n",
    "# Function to subtract two numbers\n",
    "def subtract(num1, num2):\n",
    "    return num1 - num2\n",
    "\n",
    "# Function to multiply two numbers\n",
    "def multiply(num1, num2):\n",
    "    return num1 * num2\n",
    "\n",
    "# Function to divide two numbers\n",
    "def divide(num1, num2):\n",
    "    return num1 / num2\n",
    "\n",
    "# Main program\n",
    "print(\"Select operation.\")\n",
    "print(\"1. Add\")\n",
    "print(\"2. Subtract\")\n",
    "print(\"3. Multiply\")\n",
    "print(\"4. Divide\")\n",
    "\n",
    "# Take input from the user\n",
    "choice = input(\"Enter choice (1/2/3/4): \")\n",
    "\n",
    "num1 = float(input(\"Enter first number: \"))\n",
    "num2 = float(input(\"Enter second number: \"))\n",
    "\n",
    "if choice == '1':\n",
    "    print(num1, \"+\", num2, \"=\", add(num1, num2))\n",
    "\n",
    "elif choice == '2':\n",
    "    print(num1, \"-\", num2, \"=\", subtract(num1, num2))\n",
    "\n",
    "elif choice == '3':\n",
    "    print(num1, \"*\", num2, \"=\", multiply(num1, num2))\n",
    "\n",
    "elif choice == '4':\n",
    "    print(num1, \"/\", num2, \"=\", divide(num1, num2))\n",
    "\n",
    "else:\n",
    "    print(\"Invalid input\")\n"
   ]
  },
  {
   "cell_type": "code",
   "execution_count": null,
   "id": "dd0b30a0",
   "metadata": {},
   "outputs": [],
   "source": []
  }
 ],
 "metadata": {
  "kernelspec": {
   "display_name": "Python 3 (ipykernel)",
   "language": "python",
   "name": "python3"
  },
  "language_info": {
   "codemirror_mode": {
    "name": "ipython",
    "version": 3
   },
   "file_extension": ".py",
   "mimetype": "text/x-python",
   "name": "python",
   "nbconvert_exporter": "python",
   "pygments_lexer": "ipython3",
   "version": "3.9.13"
  }
 },
 "nbformat": 4,
 "nbformat_minor": 5
}
