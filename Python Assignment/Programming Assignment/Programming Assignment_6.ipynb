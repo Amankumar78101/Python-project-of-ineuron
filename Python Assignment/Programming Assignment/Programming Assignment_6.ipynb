{
 "cells": [
  {
   "cell_type": "markdown",
   "id": "c76431af",
   "metadata": {},
   "source": [
    "#### 1. Write a Python Program to Display Fibonacci Sequence using Recursion ?"
   ]
  },
  {
   "cell_type": "code",
   "execution_count": 1,
   "id": "64e3c65a",
   "metadata": {},
   "outputs": [
    {
     "name": "stdout",
     "output_type": "stream",
     "text": [
      "Enter the length of Series: 10\n",
      "0, 1, 3, 5, 8, 13, 21, 34, 55, 89, 144, 233, "
     ]
    }
   ],
   "source": [
    "def genFibonacci(n,a,b):\n",
    "    if n == 0:\n",
    "        return 1\n",
    "    else:\n",
    "        result = a+b\n",
    "        print(result, end=', ')\n",
    "        genFibonacci(n-1,b,result)\n",
    "in_num = int(input('Enter the length of Series: '))\n",
    "print('0, 1',end=', ')\n",
    "genFibonacci(in_num,1,2)"
   ]
  },
  {
   "cell_type": "markdown",
   "id": "95ffc121",
   "metadata": {},
   "source": [
    "#### 2. Write a Python Program to Find Factorial of a Number using Recursion ?"
   ]
  },
  {
   "cell_type": "code",
   "execution_count": 3,
   "id": "645fefe9",
   "metadata": {},
   "outputs": [
    {
     "name": "stdout",
     "output_type": "stream",
     "text": [
      "Enter a number: 5\n",
      "Factorial of 5 is 120\n"
     ]
    }
   ],
   "source": [
    "def factorial(n):\n",
    "    if n == 0:\n",
    "        return 1\n",
    "    else:\n",
    "        return n * factorial(n-1)\n",
    "\n",
    "# Take input from the user\n",
    "num = int(input(\"Enter a number: \"))\n",
    "\n",
    "# Check if the number is negative\n",
    "if num < 0:\n",
    "    print(\"Factorial is not defined for negative numbers\")\n",
    "# Calculate factorial for non-negative numbers\n",
    "else:\n",
    "    print(\"Factorial of\", num, \"is\", factorial(num))\n",
    "\n"
   ]
  },
  {
   "cell_type": "markdown",
   "id": "80bd484a",
   "metadata": {},
   "source": [
    "#### 3. Write a Python Program to calculate your Body Mass Index?"
   ]
  },
  {
   "cell_type": "code",
   "execution_count": 6,
   "id": "e684ddde",
   "metadata": {},
   "outputs": [
    {
     "name": "stdout",
     "output_type": "stream",
     "text": [
      "Enter your height in meters: 1.78\n",
      "Enter your weight in kilograms: 80\n",
      "Your BMI is: 25.24933720489837\n",
      "You are overweight\n"
     ]
    }
   ],
   "source": [
    "# Take input from the user for height and weight\n",
    "height = float(input(\"Enter your height in meters: \"))\n",
    "weight = float(input(\"Enter your weight in kilograms: \"))\n",
    "\n",
    "# Calculate BMI\n",
    "bmi = weight / (height ** 2)\n",
    "\n",
    "# Print the result\n",
    "print(\"Your BMI is:\", bmi)\n",
    "\n",
    "# Interpret the result\n",
    "if bmi < 18.5:\n",
    "    print(\"You are underweight\")\n",
    "elif bmi >= 18.5 and bmi < 25:\n",
    "    print(\"You are normal weight\")\n",
    "elif bmi >= 25 and bmi < 30:\n",
    "    print(\"You are overweight\")\n",
    "else:\n",
    "    print(\"You are obese\")\n"
   ]
  },
  {
   "cell_type": "markdown",
   "id": "a817d4ec",
   "metadata": {},
   "source": [
    "### 4. Write a Python Program to calculate the natural logarithm of any number? "
   ]
  },
  {
   "cell_type": "code",
   "execution_count": null,
   "id": "202d3112",
   "metadata": {},
   "outputs": [],
   "source": [
    "import math\n",
    "# Take input from the user\n",
    "x = float(input(\"Enter a number: \"))\n",
    "def genNatLog(x):\n",
    "    # Calculate the natural logarithm\n",
    "    lnx = math.log(x)\n",
    "    # Print the result\n",
    "    print(\"The natural logarithm of\", x, \"is\", lnx)\n",
    "genNatLog(x)"
   ]
  },
  {
   "cell_type": "markdown",
   "id": "c14c7aa5",
   "metadata": {},
   "source": [
    "### 5. Write a Python Program for cube sum of first n natural numbers?"
   ]
  },
  {
   "cell_type": "code",
   "execution_count": 9,
   "id": "e578b516",
   "metadata": {},
   "outputs": [
    {
     "name": "stdout",
     "output_type": "stream",
     "text": [
      "Enter a number: 3\n",
      "The cube sum of the first 3 natural numbers is 36\n"
     ]
    }
   ],
   "source": [
    "# Take input from the user\n",
    "n = int(input(\"Enter a number: \"))\n",
    "def cubeOfNaturalNumbers(x):\n",
    "    # Calculate the cube sum of the first n natural numbers\n",
    "    cube_sum = sum(i**3 for i in range(1, n+1))\n",
    "    # Print the result\n",
    "    print(\"The cube sum of the first\", n, \"natural numbers is\", cube_sum)\n",
    "cubeOfNaturalNumbers(x)"
   ]
  },
  {
   "cell_type": "code",
   "execution_count": null,
   "id": "1128e5c2",
   "metadata": {},
   "outputs": [],
   "source": []
  }
 ],
 "metadata": {
  "kernelspec": {
   "display_name": "Python 3 (ipykernel)",
   "language": "python",
   "name": "python3"
  },
  "language_info": {
   "codemirror_mode": {
    "name": "ipython",
    "version": 3
   },
   "file_extension": ".py",
   "mimetype": "text/x-python",
   "name": "python",
   "nbconvert_exporter": "python",
   "pygments_lexer": "ipython3",
   "version": "3.9.13"
  }
 },
 "nbformat": 4,
 "nbformat_minor": 5
}
