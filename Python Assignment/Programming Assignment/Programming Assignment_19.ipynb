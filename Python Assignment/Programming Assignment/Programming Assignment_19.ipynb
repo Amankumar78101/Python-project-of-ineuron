{
 "cells": [
  {
   "cell_type": "markdown",
   "id": "c3436a79",
   "metadata": {},
   "source": [
    "#### 1.Create a function that takes a string and returns a string in which each character is repeated once.\n",
    "**Examples:**  \n",
    "`double_char(\"String\") ➞ \"SSttrriinngg\"`  \n",
    "`double_char(\"Hello World!\") ➞ \"HHeelllloo WWoorrlldd!!\"`  \n",
    "`doublechar(\"1234!_\") ➞ \"11223344!!__\"`  "
   ]
  },
  {
   "cell_type": "code",
   "execution_count": 2,
   "id": "735dbd96",
   "metadata": {},
   "outputs": [
    {
     "name": "stdout",
     "output_type": "stream",
     "text": [
      "String = SSttrriinngg\n",
      "Hello World! = HHeelllloo  WWoorrlldd!!\n",
      "1234!_ = 11223344!!__\n"
     ]
    }
   ],
   "source": [
    "def double_char(txt):\n",
    "    result = \"\"\n",
    "    for char in txt:\n",
    "        result += char * 2\n",
    "    return f\"{txt} = {result}\"\n",
    "print(double_char(\"String\")) # SSttrriinngg\n",
    "print(double_char(\"Hello World!\")) # HHeelllloo  WWoorrlldd!!\n",
    "print(double_char(\"1234!_\")) # 11223344!!__\n"
   ]
  },
  {
   "cell_type": "markdown",
   "id": "c99587a5",
   "metadata": {},
   "source": [
    "#### 2.Create a function that reverses a boolean value and returns the string \"boolean expected\" if another variable type is given.\n",
    "**Examples:**  \n",
    "`reverse(True) ➞ False`  \n",
    "`reverse(False) ➞ True`  \n",
    "`reverse(0) ➞ \"boolean expected\"`  \n",
    "`reverse(None) ➞ \"boolean expected\"`  "
   ]
  },
  {
   "cell_type": "code",
   "execution_count": 3,
   "id": "8ef33cd6",
   "metadata": {},
   "outputs": [
    {
     "name": "stdout",
     "output_type": "stream",
     "text": [
      "False\n",
      "True\n",
      "boolean expected\n",
      "boolean expected\n"
     ]
    }
   ],
   "source": [
    "def reverse(arg):\n",
    "    if type(arg) == bool:\n",
    "        return not arg\n",
    "    else:\n",
    "        return \"boolean expected\"\n",
    "print(reverse(True)) \n",
    "print(reverse(False)) \n",
    "print(reverse(0))\n",
    "print(reverse(None))\n"
   ]
  },
  {
   "cell_type": "markdown",
   "id": "4e91f190",
   "metadata": {},
   "source": [
    "#### 3. Create a function that returns the thickness (in meters) of a piece of paper after folding it n number of times. The paper starts off with a thickness of 0.5mm.\n",
    "**Examples:**  \n",
    "`num_layers(1) ➞ \"0.001m\"\n",
    "    # Paper folded once is 1mm (equal to 0.001m)\n",
    "num_layers(4) ➞ \"0.008m\"\n",
    "    # Paper folded 4 times is 8mm (equal to 0.008m)\n",
    "num_layers(21) ➞ \"1048.576m\"\n",
    "    # Paper folded 21 times is 1048576mm (equal to 1048.576m)`"
   ]
  },
  {
   "cell_type": "code",
   "execution_count": 4,
   "id": "aa4ed6dd",
   "metadata": {},
   "outputs": [
    {
     "name": "stdout",
     "output_type": "stream",
     "text": [
      "0.001m\n",
      "0.008m\n",
      "1048.576m\n"
     ]
    }
   ],
   "source": [
    "def num_layers(n):\n",
    "    thickness = 0.5 / 1000 # Convert mm to meters\n",
    "    for i in range(n):\n",
    "        thickness *= 2\n",
    "    return \"{:.3f}m\".format(thickness)\n",
    "print(num_layers(1)) # 0.001m\n",
    "print(num_layers(4)) # 0.008m\n",
    "print(num_layers(21)) # 1048.576m\n"
   ]
  },
  {
   "cell_type": "markdown",
   "id": "7ca8b5a1",
   "metadata": {},
   "source": [
    "#### 4.Create a function that takes a single string as argument and returns an ordered list containing the indices of all capital letters in the string.\n",
    "**Examples:**  \n",
    "`index_of_caps(\"eDaBiT\") ➞ [1, 3, 5]`  \n",
    "`index_of_caps(\"eQuINoX\") ➞ [1, 3, 4, 6]`  \n",
    "`index_of_caps(\"determine\") ➞ []`  \n",
    "`index_of_caps(\"STRIKE\") ➞ [0, 1, 2, 3, 4, 5]`  \n",
    "`index_of_caps(\"sUn\") ➞ [1]`  "
   ]
  },
  {
   "cell_type": "code",
   "execution_count": 6,
   "id": "7d8a9da4",
   "metadata": {},
   "outputs": [
    {
     "name": "stdout",
     "output_type": "stream",
     "text": [
      "eDaBiT = [1, 3, 5]\n",
      "eQuINoX = [1, 3, 4, 6]\n",
      "determine = []\n",
      "STRIKE = [0, 1, 2, 3, 4, 5]\n",
      "sUn = [1]\n"
     ]
    }
   ],
   "source": [
    "def index_of_caps(word):\n",
    "    result = []\n",
    "    for i in range(len(word)):\n",
    "        if word[i].isupper():\n",
    "            result.append(i)\n",
    "    return f\"{word} = {result}\"\n",
    "print(index_of_caps(\"eDaBiT\")) # [1, 3, 5]\n",
    "print(index_of_caps(\"eQuINoX\")) # [1, 3, 4, 6]\n",
    "print(index_of_caps(\"determine\")) # []\n",
    "print(index_of_caps(\"STRIKE\")) # [0, 1, 2, 3, 4, 5]\n",
    "print(index_of_caps(\"sUn\")) # [1]\n"
   ]
  },
  {
   "cell_type": "markdown",
   "id": "bbf784d2",
   "metadata": {},
   "source": [
    "#### 5.Using list comprehensions, create a function that finds all even numbers from 1 to the given number.\n",
    "**Examples:**  \n",
    "`find_even_nums(8) ➞ [2, 4, 6, 8]`  \n",
    "`find_even_nums(4) ➞ [2, 4]`   \n",
    "`find_even_nums(2) ➞ [2]`  "
   ]
  },
  {
   "cell_type": "code",
   "execution_count": 8,
   "id": "9570a526",
   "metadata": {},
   "outputs": [
    {
     "name": "stdout",
     "output_type": "stream",
     "text": [
      "8 = [2, 4, 6, 8]\n",
      "4 = [2, 4]\n",
      "2 = [2]\n"
     ]
    }
   ],
   "source": [
    "def find_even_nums(n):\n",
    "    return f'{n} = {[i for i in range(1, n+1) if i % 2 == 0]}'\n",
    "print(find_even_nums(8)) # [2, 4, 6, 8]\n",
    "print(find_even_nums(4)) # [2, 4]\n",
    "print(find_even_nums(2)) # [2]\n"
   ]
  },
  {
   "cell_type": "code",
   "execution_count": null,
   "id": "7b2b78f2",
   "metadata": {},
   "outputs": [],
   "source": []
  }
 ],
 "metadata": {
  "kernelspec": {
   "display_name": "Python 3 (ipykernel)",
   "language": "python",
   "name": "python3"
  },
  "language_info": {
   "codemirror_mode": {
    "name": "ipython",
    "version": 3
   },
   "file_extension": ".py",
   "mimetype": "text/x-python",
   "name": "python",
   "nbconvert_exporter": "python",
   "pygments_lexer": "ipython3",
   "version": "3.9.13"
  }
 },
 "nbformat": 4,
 "nbformat_minor": 5
}
