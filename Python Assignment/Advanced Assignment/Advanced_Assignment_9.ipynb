{
 "cells": [
  {
   "cell_type": "markdown",
   "id": "9653d6a2",
   "metadata": {},
   "source": [
    "#### Q1. In Python 3.X, what are the names and functions of string object types?"
   ]
  },
  {
   "cell_type": "code",
   "execution_count": 26,
   "id": "84e24a4d",
   "metadata": {},
   "outputs": [
    {
     "name": "stdout",
     "output_type": "stream",
     "text": [
      "The names and functions of string object types are :\n",
      "\n",
      "1 str = represents a sequence of Unicode characters \n",
      "\n",
      "2 bytes = represents a sequence of bytes (ASCII characters or bytes in the range 0-255) \n",
      "\n",
      "3 bytearray  = a mutable version of bytes \n",
      "\n",
      "4 str.upper() = returns a new string with all characters in uppercase \n",
      "\n",
      "5 str.lower() =  returns a new string with all characters in lowercase \n",
      "\n",
      "6 str.strip() = Returns a copy of where both leading and trailing whitespaces are removed. \n",
      "\n",
      "7 str.replace(old, new) =  returns a new string with all occurrences of the substring 'old' replaced with 'new' \n",
      "\n",
      "8 str.split() =  returns a list of substrings, split by whitespace \n",
      "\n",
      "9 str.join(iterable) =  concatenates a sequence of strings with the original string as a separator \n",
      "\n",
      "10 str.isdecimal() =  Returns True if all characters in a string are decimal. \n",
      "\n",
      "11 str.isalnum() = Returns True if all characters in the string are AlphaNumeric. \n",
      "\n",
      "12 str.istitle()  =  Returns True if first character in a string is in Uppercase. \n",
      "\n",
      "13 str.partition =  Splits string at first occurance of sub string and returns a tuple of 3 elements. \n",
      "\n",
      "14 str.rpartition = Splits string at last occurance of sub string and returns a tuple of 3 elements. \n",
      "\n",
      "15 str.isidentifier() = Returns True if give string is a valid identifier name. \n",
      "\n",
      "16 len(str) =  Returns the length of the given string. \n",
      "\n",
      "17 str.index  = Returns the lowest index of substring if substring is found in the string. \n",
      "\n",
      "18 str.rindex = Returns the highest index of substring if substring is found in the string. \n",
      "\n",
      "19 max(<str) =  Returns the highest Alphabetical Character in the string as per ASCII. \n",
      "\n",
      "20 min(<str) = Returns the lowest Alphabetical Character in the string as per ASCII. \n",
      "\n",
      "21 str.splitlines() = Returns a list of lines in the string. \n",
      "\n",
      "22 str.capitalize() = Returns the string with first character capitalized. \n",
      "\n",
      "23 str.casefold() = Returns the string in lowercase which can be used for caseless comparisions. \n",
      "\n",
      "24 str.expandtabs = Replaces tabs in a string with specified no of spaces default is 8 \n",
      "\n",
      "25 str.find = Returns lowest index of substring if substring is found in the string else returns -1. \n",
      "\n",
      "26 str.rfind = Returns highest index of substring if substring is found in the string else returns -1. \n",
      "\n",
      "27 str.count = Returns the no of occurances of the char in the given string. \n",
      "\n",
      "28 str.split = Returns list of words seperated by given sep else seperated by whitespace. \n",
      "\n",
      "29 str.rsplit = Returns list of words seperated by given sep else seperated by whitespace scanning from end. \n",
      "\n",
      "30 str.lstrip() = Returns a copy of where leading whitespaces are removed. \n",
      "\n",
      "31 str.rstrip() = Returns a copy of where trailed whitespaces are removed. \n",
      "\n",
      "32 str.swapcase() = Swaps lowercase characters with uppercase and vice versa. \n",
      "\n",
      "33 sep.join(<list>) = Concatenates a list or tuple of words with intervening occuernces of sep. \n",
      "\n",
      "34 str.translate = translates the characters using table. \n",
      "\n",
      "35 str.maketrans =  Creating a mapping translation tbale usable for <string>.translate(<mapping_table>) \n",
      "\n",
      "36 str.replace(<char_1>,<char_2>) = Replace all occurances of char_1 with char_2 in string. \n",
      "\n",
      "37 str.encode()  =  Encodes string into any encoding supported by python. Default encoding is UTF-8. \n",
      "\n",
      "38 str.ljust  =  Left-justify in a field of given width. \n",
      "\n",
      "39 str.rjust = Right-justify in a field of given width. \n",
      "\n",
      "40 str.center =  Center-justify in a field of given width. \n",
      "\n",
      "41 sti.zfill = Zfill adds zeros to the begining of string until the specified length is reached. \n",
      "\n"
     ]
    }
   ],
   "source": [
    "my_list ={\n",
    "    \"str\":\"represents a sequence of Unicode characters\",\n",
    "    \"bytes\":\"represents a sequence of bytes (ASCII characters or bytes in the range 0-255)\",\n",
    "    \"bytearray \":\"a mutable version of bytes\",\n",
    "    \"str.upper()\":\"returns a new string with all characters in uppercase\",\n",
    "    \"str.lower()\":\" returns a new string with all characters in lowercase\",\n",
    "    \"str.strip()\":\" returns a new string with leading and trailing whitespace removed\",\n",
    "    \"str.replace(old, new)\":\" returns a new string with all occurrences of the substring 'old' replaced with 'new'\",\n",
    "    \"str.split()\":\" returns a list of substrings, split by whitespace\",\n",
    "    \"str.join(iterable)\":\" concatenates a sequence of strings with the original string as a separator\",\n",
    "    'str.isdecimal()':\" Returns True if all characters in a string are decimal.\",\n",
    "    \"str.isalnum()\": \"Returns True if all characters in the string are AlphaNumeric.\",\n",
    "    'str.istitle() ':\" Returns True if first character in a string is in Uppercase.\",\n",
    "    'str.partition':\" Splits string at first occurance of sub string and returns a tuple of 3 elements.\",\n",
    "    \"str.rpartition\":\"Splits string at last occurance of sub string and returns a tuple of 3 elements.\",\n",
    "    \"str.isidentifier()\":\"Returns True if give string is a valid identifier name.\",\n",
    "    \"len(str)\" :\" Returns the length of the given string.\",\n",
    "    \"str.index \":\"Returns the lowest index of substring if substring is found in the string.\",\n",
    "    \"str.rindex\":\"Returns the highest index of substring if substring is found in the string.\",\n",
    "    \"max(<str)\":\" Returns the highest Alphabetical Character in the string as per ASCII.\",\n",
    "    \"min(<str)\":\"Returns the lowest Alphabetical Character in the string as per ASCII.\",\n",
    "    \"str.splitlines()\": \"Returns a list of lines in the string.\",\n",
    "    \"str.capitalize()\":\"Returns the string with first character capitalized.\",\n",
    "    \"str.casefold()\":\"Returns the string in lowercase which can be used for caseless comparisions.\",\n",
    "    \"str.expandtabs\":\"Replaces tabs in a string with specified no of spaces default is 8\",\n",
    "    \"str.find\" :\"Returns lowest index of substring if substring is found in the string else returns -1.\",\n",
    "    \"str.rfind\":\"Returns highest index of substring if substring is found in the string else returns -1.\",\n",
    "    \"str.count\":\"Returns the no of occurances of the char in the given string.\",\n",
    "    \"str.split\":\"Returns list of words seperated by given sep else seperated by whitespace.\",\n",
    "    \"str.rsplit\":\"Returns list of words seperated by given sep else seperated by whitespace scanning from end.\",\n",
    "    \"str.lstrip()\":\"Returns a copy of where leading whitespaces are removed.\",\n",
    "    \"str.rstrip()\":\"Returns a copy of where trailed whitespaces are removed.\",\n",
    "    \"str.strip()\":\"Returns a copy of where both leading and trailing whitespaces are removed.\",\n",
    "    \"str.swapcase()\":\"Swaps lowercase characters with uppercase and vice versa.\",\n",
    "    \"sep.join(<list>)\":\"Concatenates a list or tuple of words with intervening occuernces of sep.\",\n",
    "    \"str.translate\":\"translates the characters using table.\",\n",
    "    \"str.maketrans\":\" Creating a mapping translation tbale usable for <string>.translate(<mapping_table>)\",\n",
    "    \"str.replace(<char_1>,<char_2>)\":\"Replace all occurances of char_1 with char_2 in string.\",\n",
    "    \"str.encode() \":\" Encodes string into any encoding supported by python. Default encoding is UTF-8.\",\n",
    "    \"str.ljust \":\" Left-justify in a field of given width.\",\n",
    "    \"str.rjust\":\"Right-justify in a field of given width.\",\n",
    "    \"str.center\":\" Center-justify in a field of given width.\",\n",
    "    \"sti.zfill\":\"Zfill adds zeros to the begining of string until the specified length is reached.\",\n",
    "\n",
    "}\n",
    "print(\"The names and functions of string object types are :\\n\")\n",
    "n=0\n",
    "for i, string in enumerate(my_list):\n",
    "    print(i+1, string, '=',my_list[string],'\\n')"
   ]
  },
  {
   "cell_type": "markdown",
   "id": "5ad6efa3",
   "metadata": {},
   "source": [
    "#### Q2. How do the string forms in Python 3.X vary in terms of operations?\n",
    "**Ans:** In Python3 default format of strings is Unicode Whereas in Pyton2 we need to explicitly mention Unicode value using `u`."
   ]
  },
  {
   "cell_type": "markdown",
   "id": "b915eec6",
   "metadata": {},
   "source": [
    "#### Q3. In Python 3.X, how do you put non-ASCII Unicode characters in a string?\n",
    "**Ans:** In Python 3.x **`unidecode()`** method from unidecode library can be used to put non-ASCII Unicode Characters in a string. "
   ]
  },
  {
   "cell_type": "code",
   "execution_count": 28,
   "id": "8458df09",
   "metadata": {},
   "outputs": [
    {
     "name": "stdout",
     "output_type": "stream",
     "text": [
      "kozuscek\n",
      "aap niice apnii bhaassaa aur inputt upkrnn cuneN aur likhnaa aarNbh kreN\n",
      "Xie Xie Ni \n",
      "arigatou. \n",
      "ulybat'sia Vladimir Putin\n"
     ]
    }
   ],
   "source": [
    "from unidecode import unidecode\n",
    "print(unidecode(u'ko\\u017eu\\u0161\\u010dek'))\n",
    "print(unidecode(\"आप नीचे अपनी भाषा और इनपुट उपकरण चुनें और लिखना आरंभ करें\"))\n",
    "print(unidecode(\"谢谢你\"))\n",
    "print(unidecode(\"ありがとう。\"))\n",
    "print(unidecode(\"улыбаться Владимир Путин\"))"
   ]
  },
  {
   "cell_type": "markdown",
   "id": "aca36fa8",
   "metadata": {},
   "source": [
    "#### Q4. In Python 3.X, what are the key differences between text-mode and binary-mode files?\n",
    "**Ans:** The major difference between these two is that a text file contains textual information in the form of alphabets, digits and special characters or symbols. On the other hand, a binary file contains bytes or a compiled version of a text file.\n",
    "\n",
    "When a file is opened in **text mode**, reading its data automatically decodes its content (as per the platform default or as per provided encoding), and returns it as a **str**; writing operation takes a **str**, and automatically encodes it before transferring to the file. Text mode files also support universal end-of-line translation, and encoding specification arguments.\n",
    "\n",
    "When a file is opened in **binary mode** by adding a **`b`** to the mode string argument in the `open()` call, reading its data does not decode it in any way, and simply returns its content raw and unchanged, as a bytes object; writing takes a bytes object and transfers it to the file unchanged. Binary-mode files also accept a bytearray object for the content to be written to the file."
   ]
  },
  {
   "cell_type": "markdown",
   "id": "f4b9ba19",
   "metadata": {},
   "source": [
    "#### Q5. How can you interpret a Unicode text file containing text encoded in a different encoding than your platform's default?\n",
    "**Ans:** Use of **`encode()`** and **`decode()`** method can be used to you interpret a Unicode text file containing text encoded in a different encoding than your platform's default, by default encoding parameter is **`UTF-8`**"
   ]
  },
  {
   "cell_type": "markdown",
   "id": "98c3b5e5",
   "metadata": {},
   "source": [
    "# "
   ]
  }
 ],
 "metadata": {
  "kernelspec": {
   "display_name": "Python 3 (ipykernel)",
   "language": "python",
   "name": "python3"
  },
  "language_info": {
   "codemirror_mode": {
    "name": "ipython",
    "version": 3
   },
   "file_extension": ".py",
   "mimetype": "text/x-python",
   "name": "python",
   "nbconvert_exporter": "python",
   "pygments_lexer": "ipython3",
   "version": "3.9.13"
  }
 },
 "nbformat": 4,
 "nbformat_minor": 5
}
