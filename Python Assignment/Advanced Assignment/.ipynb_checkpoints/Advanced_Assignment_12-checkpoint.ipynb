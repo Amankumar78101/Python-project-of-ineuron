{
 "cells": [
  {
   "cell_type": "markdown",
   "id": "f761f12f",
   "metadata": {},
   "source": [
    "#### Q1. Does assigning a value to a string's indexed character violate Python's string immutability ?\n",
    "**Ans:**  String’s indexed character cannot to be assigned a New value , as Strings are **immutable.**  \n",
    "`Example: `  \n",
    "`name = \"Reinforcement\"`  \n",
    "`print(id(name)) #2249275828496`  \n",
    "`name[0] = \"V\" # Raises TypeError`  "
   ]
  },
  {
   "cell_type": "markdown",
   "id": "08f61f82",
   "metadata": {},
   "source": [
    "#### Q2. Does using the += operator to concatenate strings violate Python's string immutability? Why or why not ?\n",
    "**Ans:**  **`+=`** operator is used to concatenate strings, it does not violate Python’s string immutability Property. Because doing so new creates a new association with data and variable. \n",
    "\n",
    "**E.g.** `str_1=\"a\"` and `str_1+=\"b`. effect of this statements to create string `ab` and reassign it to variable `str_1`, any string data is not actually modified. "
   ]
  },
  {
   "cell_type": "code",
   "execution_count": 5,
   "id": "3104bb51",
   "metadata": {},
   "outputs": [
    {
     "name": "stdout",
     "output_type": "stream",
     "text": [
      "2249278342576\n",
      "2249355846576\n"
     ]
    }
   ],
   "source": [
    "str_1 = 'a'\n",
    "print(id(str_1))\n",
    "str_1 += 'b'\n",
    "print(id(str_1)) # Does not Modify existing string, Creates a New String Object"
   ]
  },
  {
   "cell_type": "markdown",
   "id": "46e37455",
   "metadata": {},
   "source": [
    "#### Q3. In Python, how many different ways are there to index a character?\n",
    "**Ans:** A Character in string can be indexed using string name followed by index number of character in square bracket. **Positive Indexing** i.e. first index is 0 an so on, or **Negative Indexing** i.e. last letter is -1 and so on can be used to index a character"
   ]
  },
  {
   "cell_type": "code",
   "execution_count": 9,
   "id": "9162d9fd",
   "metadata": {},
   "outputs": [
    {
     "name": "stdout",
     "output_type": "stream",
     "text": [
      "Positive Indexing = A m a\n",
      "Negative Indexing= A m a\n"
     ]
    }
   ],
   "source": [
    "in_string = \"Aman kumar\"\n",
    "print('Positive Indexing =',in_string[0],in_string[7],in_string[8]) # Positive Indexing\n",
    "print('Negative Indexing=',in_string[-10],in_string[-3],in_string[-2]) # Negative Indexing"
   ]
  },
  {
   "cell_type": "markdown",
   "id": "0d43db38",
   "metadata": {},
   "source": [
    "#### Q4. What is the relationship between indexing and slicing?\n",
    "**Ans:** We can access elements of sequence datatypes by using slicing and indexing. Indexing is used to obtaining individual element while slicing for sequence of elements."
   ]
  },
  {
   "cell_type": "code",
   "execution_count": 11,
   "id": "d93081a8",
   "metadata": {},
   "outputs": [
    {
     "name": "stdout",
     "output_type": "stream",
     "text": [
      "Indexing =  A m a\n",
      "Slicing = Aman kumar\n"
     ]
    }
   ],
   "source": [
    "in_string =  \"Aman kumar\"\n",
    "print(\"Indexing = \",in_string[0],in_string[7],in_string[8]) # Indexing\n",
    "print('Slicing =',in_string[0:]) # Slicing"
   ]
  },
  {
   "cell_type": "markdown",
   "id": "8d6a6100",
   "metadata": {},
   "source": [
    "#### Q5. What is an indexed character's exact data type? What is the data form of a slicing-generated substring?\n",
    "**Ans:** Indexed characters and sliced substrings have datatype **String**."
   ]
  },
  {
   "cell_type": "code",
   "execution_count": 14,
   "id": "af80911d",
   "metadata": {},
   "outputs": [
    {
     "name": "stdout",
     "output_type": "stream",
     "text": [
      "<class 'str'>\n",
      "<class 'str'>\n"
     ]
    }
   ],
   "source": [
    "in_string =  \"Aman kumar\"\n",
    "print(type(in_string[3])) # Indexing -> str\n",
    "print(type(in_string[1:10])) # Indexing -> str"
   ]
  },
  {
   "cell_type": "markdown",
   "id": "ee7fdb08",
   "metadata": {},
   "source": [
    "#### Q6. What is the relationship between string and character \"types\" in Python?\n",
    "**Ans:** Object that contains sequence of character datatypes are called String.\n"
   ]
  },
  {
   "cell_type": "markdown",
   "id": "7ac308b9",
   "metadata": {},
   "source": [
    "#### Q7. Identify at least two operators & one method that allow you to combine one or more smaller strings to create a larger string ?\n",
    "**Ans:** **`+`**, **`+=`** and **`*`** allow to combine one or more smaller strings to create a larger string. **`<string>.join(<sep>)`** method joins element of iterable type like list and tuple to get a combined string. "
   ]
  },
  {
   "cell_type": "code",
   "execution_count": 17,
   "id": "56befa4c",
   "metadata": {},
   "outputs": [
    {
     "name": "stdout",
     "output_type": "stream",
     "text": [
      "Aman Kumar 1\n",
      "Kumar Kumar Kumar \n",
      "List Iterable = A M A N\n",
      "Tuple Iterable = a m a n\n"
     ]
    }
   ],
   "source": [
    "in_string = 'Aman '\n",
    "in_string += 'Kumar'\n",
    "print(in_string + ' 1')\n",
    "print('Kumar '*3)\n",
    "print('List Iterable =',\" \".join(['A','M','A','N'])) # List Iterable\n",
    "print('Tuple Iterable =',\" \".join(('A','M','A','N')).lower()) # Tuple Iterable"
   ]
  },
  {
   "cell_type": "markdown",
   "id": "3fc295c1",
   "metadata": {},
   "source": [
    "#### Q8. What is the benefit of first checking the target string with in or not in before using the index method to find a substring ?\n",
    "**Ans:** Checking the target string with **`in`** or **`not`** Operators before using the index method to find a  substring just helps confirming availability of substring and thus avoid raising of **`ValueError.`**  \n",
    "**`Example:`**    \n",
    "`  \n",
    "\n",
    "\n",
    "\n"
   ]
  },
  {
   "cell_type": "code",
   "execution_count": 24,
   "id": "2f299f85",
   "metadata": {},
   "outputs": [
    {
     "name": "stdout",
     "output_type": "stream",
     "text": [
      "3\n"
     ]
    },
    {
     "ename": "ValueError",
     "evalue": "substring not found",
     "output_type": "error",
     "traceback": [
      "\u001b[1;31m---------------------------------------------------------------------------\u001b[0m",
      "\u001b[1;31mValueError\u001b[0m                                Traceback (most recent call last)",
      "\u001b[1;32m~\\AppData\\Local\\Temp\\ipykernel_14940\\321937933.py\u001b[0m in \u001b[0;36m<module>\u001b[1;34m\u001b[0m\n\u001b[0;32m      1\u001b[0m \u001b[0min_string\u001b[0m \u001b[1;33m=\u001b[0m \u001b[1;34m\"Aman\"\u001b[0m\u001b[1;33m\u001b[0m\u001b[1;33m\u001b[0m\u001b[0m\n\u001b[0;32m      2\u001b[0m \u001b[0mprint\u001b[0m\u001b[1;33m(\u001b[0m\u001b[0min_string\u001b[0m\u001b[1;33m.\u001b[0m\u001b[0mindex\u001b[0m\u001b[1;33m(\u001b[0m\u001b[1;34m'n'\u001b[0m\u001b[1;33m)\u001b[0m\u001b[1;33m)\u001b[0m \u001b[1;31m# 3\u001b[0m\u001b[1;33m\u001b[0m\u001b[1;33m\u001b[0m\u001b[0m\n\u001b[1;32m----> 3\u001b[1;33m \u001b[0min_string\u001b[0m\u001b[1;33m.\u001b[0m\u001b[0mindex\u001b[0m\u001b[1;33m(\u001b[0m\u001b[1;34m'x'\u001b[0m\u001b[1;33m)\u001b[0m \u001b[1;31m# Raises ValueError`\u001b[0m\u001b[1;33m\u001b[0m\u001b[1;33m\u001b[0m\u001b[0m\n\u001b[0m",
      "\u001b[1;31mValueError\u001b[0m: substring not found"
     ]
    }
   ],
   "source": [
    "in_string = \"Aman\"  \n",
    "print(in_string.index('n')) # 3\n",
    "in_string.index('x') # Raises ValueError` \n"
   ]
  },
  {
   "cell_type": "markdown",
   "id": "781b3c13",
   "metadata": {},
   "source": [
    "#### Q9. Which operators and built-in string methods produce simple Boolean (true/false) results?\n",
    "**Ans:** The String Operators and built-in methods to Produce Simple Boolean (True/False) Results are:\n",
    "- **`in`**\n",
    "- **`not`**\n",
    "- **`<string>.isalpha()`**\n",
    "- **`<string>.isalnum()`**\n",
    "- **`<string>.isdecimal()`**\n",
    "- **`<string>.isdigit()`**\n",
    "- **`<string>.islower()`**\n",
    "- **`<string>.isnumeric()`**\n",
    "- **`<string>.isprintable()`**\n",
    "- **`<string>.isspace()`**\n",
    "- **`<string>.istitle()`**"
   ]
  },
  {
   "cell_type": "code",
   "execution_count": null,
   "id": "09f4bf8d",
   "metadata": {},
   "outputs": [],
   "source": []
  }
 ],
 "metadata": {
  "kernelspec": {
   "display_name": "Python 3 (ipykernel)",
   "language": "python",
   "name": "python3"
  },
  "language_info": {
   "codemirror_mode": {
    "name": "ipython",
    "version": 3
   },
   "file_extension": ".py",
   "mimetype": "text/x-python",
   "name": "python",
   "nbconvert_exporter": "python",
   "pygments_lexer": "ipython3",
   "version": "3.9.13"
  }
 },
 "nbformat": 4,
 "nbformat_minor": 5
}
