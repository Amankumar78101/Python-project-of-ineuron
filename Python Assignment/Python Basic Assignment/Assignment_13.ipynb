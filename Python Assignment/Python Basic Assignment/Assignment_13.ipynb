{
 "cells": [
  {
   "cell_type": "code",
   "execution_count": 1,
   "id": "8a9c1838",
   "metadata": {},
   "outputs": [
    {
     "name": "stdout",
     "output_type": "stream",
     "text": [
      "Ans: The Advantages of Excel over CSV are:\n",
      "1. Excel (XLS and XLSX) file formats are better for storing and analysing complex data.\n",
      "2. An Excel not only stores data but can also do operations on the data using macros, formulas etc\n",
      "3. CSV files are plain-text files, Does not contain formatting, formulas, macros, etc. It is also known as flat files\n"
     ]
    }
   ],
   "source": [
    "# 1. What advantages do Excel spreadsheets have over CSV spreadsheets?\n",
    "print(\"\"\"Ans: The Advantages of Excel over CSV are:\n",
    "1. Excel (XLS and XLSX) file formats are better for storing and analysing complex data.\n",
    "2. An Excel not only stores data but can also do operations on the data using macros, formulas etc\n",
    "3. CSV files are plain-text files, Does not contain formatting, formulas, macros, etc. It is also known as flat files\"\"\")"
   ]
  },
  {
   "cell_type": "code",
   "execution_count": 3,
   "id": "27208939",
   "metadata": {},
   "outputs": [],
   "source": [
    "# 2.What do you pass to csv.reader() and csv.writer() to create reader and writer objects?\n",
    "import csv\n",
    "with open('text.csv','r') as file:\n",
    "    csv_file = csv.reader(file,delimiter=',')\n",
    "    for ele in csv_file:\n",
    "        print(ele)"
   ]
  },
  {
   "cell_type": "code",
   "execution_count": 5,
   "id": "ec9a1a92",
   "metadata": {},
   "outputs": [
    {
     "name": "stdout",
     "output_type": "stream",
     "text": [
      "Ans: For `csv.reader(test_file_object)`, the file objects needed to be opened in `read` mode `mode='r'` Whereas \n",
      "     for `csv.writer(test_file_object)` the file objects needed to be opened in `write` mode `mode='w'`\n",
      "\n"
     ]
    }
   ],
   "source": [
    "# 3. What modes do File objects for reader and writer objects need to be opened in?\n",
    "print(\"\"\"Ans: For `csv.reader(test_file_object)`, the file objects needed to be opened in `read` mode `mode='r'` Whereas \n",
    "     for `csv.writer(test_file_object)` the file objects needed to be opened in `write` mode `mode='w'`\n",
    "\"\"\")"
   ]
  },
  {
   "cell_type": "code",
   "execution_count": 6,
   "id": "76be5085",
   "metadata": {},
   "outputs": [
    {
     "name": "stdout",
     "output_type": "stream",
     "text": [
      "Ans: csv.writer class provides two methods for writing to CSV. They are `writerow()` and `writerows().` writerow()\n",
      "     method writes a single row at a time. Whereas writerows() method is used to write multiple rows at a time.\n"
     ]
    }
   ],
   "source": [
    "# 4. What method takes a list argument and writes it to a CSV file?\n",
    "print(\"\"\"Ans: csv.writer class provides two methods for writing to CSV. They are `writerow()` and `writerows().` writerow()\n",
    "     method writes a single row at a time. Whereas writerows() method is used to write multiple rows at a time.\"\"\")\n",
    "# Example Program\n",
    "import csv      \n",
    "fields = ['Name', 'Year'] #column names \n",
    "rows = [ \n",
    "            ['Nikhil', '17'],  # data rows of csv file \n",
    "            ['Sanchit','18' ], \n",
    "            ['Ravi','20']\n",
    "       ] \n",
    "with open(\"test_records.csv\", 'w') as csvfile: \n",
    "    csvwriter = csv.writer(csvfile) # creating a csv writer object \n",
    "    csvwriter.writerow(fields) # writing the fields \n",
    "    csvwriter.writerows(rows) # writing the data rows "
   ]
  },
  {
   "cell_type": "code",
   "execution_count": 7,
   "id": "3cb4594e",
   "metadata": {},
   "outputs": [
    {
     "name": "stdout",
     "output_type": "stream",
     "text": [
      "Ans: Lets take the example of a csv file:  \n",
      "`First Name, Last Name, Age`  \n",
      "`Aman, Kumar, 19`  \n",
      "`Atul, Kumar,21`  \n",
      "Here `','` is Delimiter. We can use any Character as per our needs if required. Similarly Line Terminator comes at end \n",
      "of line by default it is newline and can be changed accourding to Requirement.\n"
     ]
    }
   ],
   "source": [
    "# 5. What do the keyword arguments delimiter and line terminator do?\n",
    "print(\"\"\"Ans: Lets take the example of a csv file:  \n",
    "`First Name, Last Name, Age`  \n",
    "`Aman, Kumar, 19`  \n",
    "`Atul, Kumar,21`  \n",
    "Here `','` is Delimiter. We can use any Character as per our needs if required. Similarly Line Terminator comes at end \n",
    "of line by default it is newline and can be changed accourding to Requirement.\"\"\")"
   ]
  },
  {
   "cell_type": "code",
   "execution_count": 11,
   "id": "2698c516",
   "metadata": {},
   "outputs": [
    {
     "name": "stdout",
     "output_type": "stream",
     "text": [
      "Ans: `loads()` method takes a string of JSON data and returns a Python data structure\n",
      "\n",
      "{\n",
      "    \"Name\": \"Aman kumar\",\n",
      "    \"age\": \"18\"\n",
      "}\n",
      "Type of my_details_json is <class 'str'>\n",
      "{'Name': 'Aman kumar', 'age': '18'}\n",
      "Type of my_details is <class 'dict'>\n"
     ]
    }
   ],
   "source": [
    "# 6. What function takes a string of JSON data and returns a Python data structure?\n",
    "print(\"\"\"Ans: `loads()` method takes a string of JSON data and returns a Python data structure\\n\"\"\")\n",
    "\n",
    "# Example of json.loads() method\n",
    "import json\n",
    "my_details_json ='''{\n",
    "    \"Name\": \"Aman kumar\",\n",
    "    \"age\": \"18\"\n",
    "}'''\n",
    "print(my_details_json)\n",
    "print(f'Type of my_details_json is {type(my_details_json)}')\n",
    "my_details = json.loads(my_details_json)\n",
    "print(my_details)\n",
    "print(f'Type of my_details is {type(my_details)}')"
   ]
  },
  {
   "cell_type": "code",
   "execution_count": 13,
   "id": "ac13aa34",
   "metadata": {},
   "outputs": [
    {
     "name": "stdout",
     "output_type": "stream",
     "text": [
      "Ans: `dumps()` method takes a python data structure and returns a string of JSON data\n",
      "\n",
      "{'Name': 'Mano Vishnu', 'age': '18'}\n",
      "Type of my_details is <class 'dict'>\n",
      "\n",
      "{\n",
      "    \"Name\": \"Mano Vishnu\",\n",
      "    \"age\": \"18\"\n",
      "}\n",
      "Type of my_details_json is <class 'str'>\n"
     ]
    }
   ],
   "source": [
    "# 7. What function takes a Python data structure and returns a string of JSON data?\n",
    "print(\"Ans: `dumps()` method takes a python data structure and returns a string of JSON data\\n\")\n",
    "# Example of json.dumps() method\n",
    "import json\n",
    "my_details ={\n",
    "    \"Name\": \"Mano Vishnu\",\n",
    "    \"age\": \"18\"\n",
    "}\n",
    "print(my_details)\n",
    "print(f'Type of my_details is {type(my_details)}\\n')\n",
    "my_details_json = json.dumps(my_details, indent=4, sort_keys=True)\n",
    "print(my_details_json)\n",
    "print(f'Type of my_details_json is {type(my_details_json)}')"
   ]
  },
  {
   "cell_type": "code",
   "execution_count": null,
   "id": "1ba4732c",
   "metadata": {},
   "outputs": [],
   "source": []
  }
 ],
 "metadata": {
  "kernelspec": {
   "display_name": "Python 3 (ipykernel)",
   "language": "python",
   "name": "python3"
  },
  "language_info": {
   "codemirror_mode": {
    "name": "ipython",
    "version": 3
   },
   "file_extension": ".py",
   "mimetype": "text/x-python",
   "name": "python",
   "nbconvert_exporter": "python",
   "pygments_lexer": "ipython3",
   "version": "3.9.12"
  }
 },
 "nbformat": 4,
 "nbformat_minor": 5
}
