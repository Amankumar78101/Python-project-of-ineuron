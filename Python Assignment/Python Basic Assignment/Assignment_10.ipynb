{
 "cells": [
  {
   "cell_type": "code",
   "execution_count": 2,
   "id": "afc1443e",
   "metadata": {},
   "outputs": [
    {
     "name": "stdout",
     "output_type": "stream",
     "text": [
      "Answer = 1. 'shutil.copy()' is a function that copies a single file to a destination file or directory. It takes two \n",
      "         arguments: the source file and the destination. The destination can be a file or a directory. If it is a \n",
      "         directory, the file will be copied into the directory with the same name as the source file.\n",
      "\n",
      "         2. 'shutil.copytree()' is a function that copies an entire directory and its contents to a destination directory. \n",
      "         It takes two arguments: the source directory and the destination. The destination directory must not already exist;\n",
      "         if it does, copytree() will raise an error.\n",
      "\n",
      "         3. Both functions are part of the shutil (shell utilities) module in the Python standard library. They are useful for\n",
      "         making copies of files and directories as part of a larger program or script.\n",
      "\n",
      "\n",
      "\n",
      "\n"
     ]
    }
   ],
   "source": [
    "#1. How do you distinguish between shutil.copy() and shutil.copytree()?\n",
    "\n",
    "print(\"\"\"Answer = 1. 'shutil.copy()' is a function that copies a single file to a destination file or directory. It takes two \n",
    "         arguments: the source file and the destination. The destination can be a file or a directory. If it is a \n",
    "         directory, the file will be copied into the directory with the same name as the source file.\n",
    "\n",
    "         2. 'shutil.copytree()' is a function that copies an entire directory and its contents to a destination directory. \n",
    "         It takes two arguments: the source directory and the destination. The destination directory must not already exist;\n",
    "         if it does, copytree() will raise an error.\n",
    "\n",
    "         3. Both functions are part of the shutil (shell utilities) module in the Python standard library. They are useful for\n",
    "         making copies of files and directories as part of a larger program or script.\n",
    "\n",
    "\n",
    "\n",
    "\"\"\")"
   ]
  },
  {
   "cell_type": "code",
   "execution_count": 4,
   "id": "d605a38c",
   "metadata": {},
   "outputs": [
    {
     "name": "stdout",
     "output_type": "stream",
     "text": [
      "Answer = To rename a file in Python, you can use the 'os.rename()' function. \n"
     ]
    }
   ],
   "source": [
    "#2. What function is used to rename files??\n",
    "print(\"Answer = To rename a file in Python, you can use the 'os.rename()' function. \")"
   ]
  },
  {
   "cell_type": "code",
   "execution_count": 5,
   "id": "14e66a14",
   "metadata": {},
   "outputs": [
    {
     "name": "stdout",
     "output_type": "stream",
     "text": [
      "Answer = 1. The 'send2trash' module is a third-party Python library that provides a convenient way to send files and \n",
      "         directories to the trash or recycle bin on your computer, rather than permanently deleting them. This can be useful  \n",
      "         if you want to delete a file or directory but want to keep a copy of it in case you need it later.\n",
      "         \n",
      "         2. The 'shutil' (shell utilities) module, on the other hand, provides several functions for deleting files and \n",
      "         directories. These functions permanently delete the files or directories, and they are not recoverable.\n",
      "\n"
     ]
    }
   ],
   "source": [
    "#3. What is the difference between the delete functions in the send2trash and shutil modules?\n",
    "print(\"\"\"Answer = 1. The 'send2trash' module is a third-party Python library that provides a convenient way to send files and \n",
    "         directories to the trash or recycle bin on your computer, rather than permanently deleting them. This can be useful  \n",
    "         if you want to delete a file or directory but want to keep a copy of it in case you need it later.\n",
    "         \n",
    "         2. The 'shutil' (shell utilities) module, on the other hand, provides several functions for deleting files and \n",
    "         directories. These functions permanently delete the files or directories, and they are not recoverable.\n",
    "\"\"\")"
   ]
  },
  {
   "cell_type": "code",
   "execution_count": 6,
   "id": "352c7fc5",
   "metadata": {},
   "outputs": [
    {
     "name": "stdout",
     "output_type": "stream",
     "text": [
      "Answer= ZipFile Module provides a method called as zipfile.ZipFile() to read and write to zipFiles. it takes arugments\n",
      "         lile filename and mode etc zipfile.ZipFile('filename', mode = 'r')\n"
     ]
    }
   ],
   "source": [
    "#4. ZipFile objects have a close() method just like File objects’ close() method. What ZipFile method is equivalent to File \n",
    "#objects’ open() method?\n",
    "\n",
    "print(\"\"\"Answer= ZipFile Module provides a method called as zipfile.ZipFile() to read and write to zipFiles. it takes arugments\n",
    "         lile filename and mode etc zipfile.ZipFile('filename', mode = 'r')\"\"\")"
   ]
  },
  {
   "cell_type": "code",
   "execution_count": 12,
   "id": "29ddbc6e",
   "metadata": {},
   "outputs": [],
   "source": [
    "#5. Create a programme that searches a folder tree for files with a certain file extension (such as .pdf\n",
    "#or .jpg). Copy these files from whatever location they are in to a new folder.\n",
    "\n",
    "import os\n",
    "import shutil\n",
    "\n",
    "def search_and_copy(src_dir, dest_dir, extension):\n",
    "    for root, dirs, files in os.walk(src_dir):\n",
    "        for file in files:\n",
    "            if file.endswith(extension):\n",
    "                src_path=os.path.join(root,file)\n",
    "                shutil.copy(src_path, dest_dir)\n",
    "\n",
    "\n"
   ]
  },
  {
   "cell_type": "code",
   "execution_count": 13,
   "id": "d480c099",
   "metadata": {},
   "outputs": [],
   "source": [
    "import os\n",
    "import shutil\n",
    "\n",
    "def search_and_copy(src_dir, dest_dir, extension):\n",
    "    # Search the directory tree for files with the specified extension\n",
    "    for root, dirs, files in os.walk(src_dir):\n",
    "        for file in files:\n",
    "            if file.endswith(extension):\n",
    "                # Construct the full path to the file\n",
    "                src_path = os.path.join(root, file)\n",
    "                # Copy the file to the destination directory\n",
    "                shutil.copy(src_path, dest_dir)\n",
    "\n",
    "# Test the function\n",
    "src_dir =r'C:\\Users\\atulk\\PycharmProjects\\python\\atul'\n",
    "dest_dir =r'C:\\Users\\atulk\\PycharmProjects\\python\\aman'\n",
    "extension = '.py'\n",
    "search_and_copy(src_dir, dest_dir, extension)\n"
   ]
  },
  {
   "cell_type": "code",
   "execution_count": null,
   "id": "4c813573",
   "metadata": {},
   "outputs": [],
   "source": []
  }
 ],
 "metadata": {
  "kernelspec": {
   "display_name": "Python 3 (ipykernel)",
   "language": "python",
   "name": "python3"
  },
  "language_info": {
   "codemirror_mode": {
    "name": "ipython",
    "version": 3
   },
   "file_extension": ".py",
   "mimetype": "text/x-python",
   "name": "python",
   "nbconvert_exporter": "python",
   "pygments_lexer": "ipython3",
   "version": "3.9.12"
  }
 },
 "nbformat": 4,
 "nbformat_minor": 5
}
