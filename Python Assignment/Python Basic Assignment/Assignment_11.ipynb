{
 "cells": [
  {
   "cell_type": "code",
   "execution_count": 1,
   "id": "fdd17187",
   "metadata": {},
   "outputs": [
    {
     "ename": "AssertionError",
     "evalue": "Variable Spam should not be a -ve number",
     "output_type": "error",
     "traceback": [
      "\u001b[1;31m---------------------------------------------------------------------------\u001b[0m",
      "\u001b[1;31mAssertionError\u001b[0m                            Traceback (most recent call last)",
      "Input \u001b[1;32mIn [1]\u001b[0m, in \u001b[0;36m<cell line: 6>\u001b[1;34m()\u001b[0m\n\u001b[0;32m      3\u001b[0m \u001b[38;5;28;01mdef\u001b[39;00m \u001b[38;5;21mAssertionError\u001b[39m(spam):\n\u001b[0;32m      4\u001b[0m     \u001b[38;5;28;01massert\u001b[39;00m spam \u001b[38;5;241m>\u001b[39m\u001b[38;5;241m=\u001b[39m \u001b[38;5;241m0\u001b[39m, \u001b[38;5;124m'\u001b[39m\u001b[38;5;124mVariable Spam should not be a -ve number\u001b[39m\u001b[38;5;124m'\u001b[39m\n\u001b[1;32m----> 6\u001b[0m \u001b[38;5;167;43;01mAssertionError\u001b[39;49;00m\u001b[43m(\u001b[49m\u001b[38;5;241;43m-\u001b[39;49m\u001b[38;5;241;43m1\u001b[39;49m\u001b[43m)\u001b[49m\n",
      "Input \u001b[1;32mIn [1]\u001b[0m, in \u001b[0;36mAssertionError\u001b[1;34m(spam)\u001b[0m\n\u001b[0;32m      3\u001b[0m \u001b[38;5;28;01mdef\u001b[39;00m \u001b[38;5;21mAssertionError\u001b[39m(spam):\n\u001b[1;32m----> 4\u001b[0m     \u001b[38;5;28;01massert\u001b[39;00m spam \u001b[38;5;241m>\u001b[39m\u001b[38;5;241m=\u001b[39m \u001b[38;5;241m0\u001b[39m, \u001b[38;5;124m'\u001b[39m\u001b[38;5;124mVariable Spam should not be a -ve number\u001b[39m\u001b[38;5;124m'\u001b[39m\n",
      "\u001b[1;31mAssertionError\u001b[0m: Variable Spam should not be a -ve number"
     ]
    }
   ],
   "source": [
    "#1.Create an assert statement that throws an AssertionError if the variable spam is a negative integer.\n",
    "\n",
    "def AssertionError(spam):\n",
    "    assert spam >= 0, 'Variable Spam should not be a -ve number'\n",
    "\n",
    "AssertionError(-1)\n",
    "    \n",
    "    "
   ]
  },
  {
   "cell_type": "code",
   "execution_count": null,
   "id": "209b70ae",
   "metadata": {},
   "outputs": [],
   "source": [
    "#2. Write an assert statement that triggers an AssertionError if the variables eggs and bacon contain strings that are the \n",
    "#same as each other, even if their cases are different (that is, 'hello' and 'hello' are considered the same, and 'goodbye' \n",
    "#and 'GOODbye' are also considered the same).\n",
    "def raise_assert(egg,bacon):\n",
    "    egg = egg.upper()\n",
    "    bacon = bacon.upper()\n",
    "    assert not(egg == bacon), 'Eggs/Bacon should not be same, which are same now'\n",
    "\n",
    "raise_assert('hello','HELLO')    \n"
   ]
  },
  {
   "cell_type": "code",
   "execution_count": null,
   "id": "ceb2592c",
   "metadata": {},
   "outputs": [],
   "source": [
    "raise_assert('goodbye','GOODbye')"
   ]
  },
  {
   "cell_type": "code",
   "execution_count": 2,
   "id": "88190943",
   "metadata": {},
   "outputs": [
    {
     "ename": "AssertionError",
     "evalue": "Always Shows Assertion Error",
     "output_type": "error",
     "traceback": [
      "\u001b[1;31m---------------------------------------------------------------------------\u001b[0m",
      "\u001b[1;31mAssertionError\u001b[0m                            Traceback (most recent call last)",
      "Input \u001b[1;32mIn [2]\u001b[0m, in \u001b[0;36m<cell line: 4>\u001b[1;34m()\u001b[0m\n\u001b[0;32m      2\u001b[0m \u001b[38;5;28;01mdef\u001b[39;00m \u001b[38;5;21massert_always\u001b[39m():\n\u001b[0;32m      3\u001b[0m     \u001b[38;5;28;01massert\u001b[39;00m \u001b[38;5;28;01mFalse\u001b[39;00m, \u001b[38;5;124m'\u001b[39m\u001b[38;5;124mAlways Shows Assertion Error\u001b[39m\u001b[38;5;124m'\u001b[39m\n\u001b[1;32m----> 4\u001b[0m \u001b[43massert_always\u001b[49m\u001b[43m(\u001b[49m\u001b[43m)\u001b[49m\n",
      "Input \u001b[1;32mIn [2]\u001b[0m, in \u001b[0;36massert_always\u001b[1;34m()\u001b[0m\n\u001b[0;32m      2\u001b[0m \u001b[38;5;28;01mdef\u001b[39;00m \u001b[38;5;21massert_always\u001b[39m():\n\u001b[1;32m----> 3\u001b[0m     \u001b[38;5;28;01massert\u001b[39;00m \u001b[38;5;28;01mFalse\u001b[39;00m, \u001b[38;5;124m'\u001b[39m\u001b[38;5;124mAlways Shows Assertion Error\u001b[39m\u001b[38;5;124m'\u001b[39m\n",
      "\u001b[1;31mAssertionError\u001b[0m: Always Shows Assertion Error"
     ]
    }
   ],
   "source": [
    "# 3. Create an assert statement that throws an AssertionError every time.\n",
    "def assert_always():\n",
    "    assert False, 'Always Shows Assertion Error'\n",
    "assert_always()"
   ]
  },
  {
   "cell_type": "code",
   "execution_count": 3,
   "id": "8a5695ad",
   "metadata": {},
   "outputs": [],
   "source": [
    "#4. What are the two lines that must be present in your software in order to call logging.debug()?\n",
    "import logging\n",
    "logging.basicConfig(filename = 'test.txt',level=logging.DEBUG, format=' %(asctime)s - %(levelname)s - %(message)s')"
   ]
  },
  {
   "cell_type": "code",
   "execution_count": 4,
   "id": "d8408993",
   "metadata": {},
   "outputs": [],
   "source": [
    "# 5. What are the two lines that your program must have in order to have logging.debug() send a logging message to a file named programLog.txt?\n",
    "import logging\n",
    "logging.basicConfig(filename = 'text.txt',level=logging.DEBUG, format=' %(asctime)s - %(levelname)s - %(message)s')\n",
    "logging.debug(\"Data Inserted Successfully\")\n",
    "logging.debug('Connection Closed Successfully')\n"
   ]
  },
  {
   "cell_type": "code",
   "execution_count": 5,
   "id": "603f041d",
   "metadata": {},
   "outputs": [
    {
     "name": "stdout",
     "output_type": "stream",
     "text": [
      " 2023-02-10 09:08:00,194 - DEBUG - Data Inserted Successfully\n",
      "\n",
      " 2023-02-10 09:08:00,194 - DEBUG - Connection Closed Successfully\n",
      "\n"
     ]
    }
   ],
   "source": [
    "with open(\"./test.txt\",\"r\") as file:\n",
    "    for record in file.readlines():\n",
    "        print(record)"
   ]
  },
  {
   "cell_type": "code",
   "execution_count": 8,
   "id": "ecc89d8e",
   "metadata": {},
   "outputs": [
    {
     "name": "stdout",
     "output_type": "stream",
     "text": [
      "Ans: The Five levels of Logging provided by python's logging module are \n",
      "CRITICAL(50)\n",
      "ERROR(40)\n",
      "WARNING(30)\n",
      "INFO(20`\n",
      "DEBUG(10)\n",
      "NOTSET(0)\n"
     ]
    }
   ],
   "source": [
    "# 6. What are the five levels of logging?\n",
    "print(\"\"\"Ans: The Five levels of Logging provided by python's logging module are \n",
    "CRITICAL(50)\n",
    "ERROR(40)\n",
    "WARNING(30)\n",
    "INFO(20`\n",
    "DEBUG(10)\n",
    "NOTSET(0)\"\"\")"
   ]
  },
  {
   "cell_type": "code",
   "execution_count": 9,
   "id": "c3b3f857",
   "metadata": {},
   "outputs": [],
   "source": [
    "# 7. What line of code would you add to your software to disable all logging messages?\n",
    "logging.disable = True"
   ]
  },
  {
   "cell_type": "code",
   "execution_count": 11,
   "id": "56d5b091",
   "metadata": {},
   "outputs": [
    {
     "name": "stdout",
     "output_type": "stream",
     "text": [
      "Ans: Post devlopment of your code, you can disable logging messages without removing the logging function, whereas you need to\n",
      "manually remove print() statements, which is tedious activity. and also print is used when you want to display any particular message or help whereas logging is used to record all events like \n",
      "error, info, debug messages, timestamps.\n"
     ]
    }
   ],
   "source": [
    "# 8.Why is using logging messages better than using print() to display the same message?\n",
    "print(\"\"\"Ans: Post devlopment of your code, you can disable logging messages without removing the logging function, whereas you need to\n",
    "manually remove print() statements, which is tedious activity. and also print is used when you want to display any particular message or help whereas logging is used to record all events like \n",
    "error, info, debug messages, timestamps.\"\"\")"
   ]
  },
  {
   "cell_type": "code",
   "execution_count": 13,
   "id": "ffeef538",
   "metadata": {},
   "outputs": [
    {
     "name": "stdout",
     "output_type": "stream",
     "text": [
      "Ans: The Differences between Step Over, Step In, Step Out buttons in debugger are:\n",
      "1. Step in  -  Step In button will cause the debugger to execute the next line of code and then pause again.\n",
      "\n",
      "2. Step Over - Step Over button will execute the next line of code, similar to the Step In button. However, if the next line of code is a function call, the Step Over button will “step over” the code in the function. The function’s code will be executed at full speed, and the debugger will pause as soon as the function call returns.         \n",
      "\n",
      "3. Step out  - Step Out button will cause the debugger to execute lines of code at full speed until it returns from the current function. \n"
     ]
    }
   ],
   "source": [
    "# 9.What are the differences between the Step Over, Step In, and Step Out buttons in the debugger?\n",
    "print(\"\"\"Ans: The Differences between Step Over, Step In, Step Out buttons in debugger are:\n",
    "1. Step in  -  Step In button will cause the debugger to execute the next line of code and then pause again.\n",
    "\n",
    "2. Step Over - Step Over button will execute the next line of code, similar to the Step In button. However, if the next line of code is a function call, the Step Over button will “step over” the code in the function. The function’s code will be executed at full speed, and the debugger will pause as soon as the function call returns.         \n",
    "\n",
    "3. Step out  - Step Out button will cause the debugger to execute lines of code at full speed until it returns from the current function. \"\"\")"
   ]
  },
  {
   "cell_type": "code",
   "execution_count": 14,
   "id": "7cab174c",
   "metadata": {},
   "outputs": [
    {
     "name": "stdout",
     "output_type": "stream",
     "text": [
      "Ans: This will cause the program to continue running normally, without pausing for debugging  untill it terminates or reaches a breakpoint.\n"
     ]
    }
   ],
   "source": [
    "# 10.After you click Continue, when will the debugger stop ?\n",
    "print(\"Ans: This will cause the program to continue running normally, without pausing for debugging  untill it terminates or reaches a breakpoint.\")"
   ]
  },
  {
   "cell_type": "code",
   "execution_count": 15,
   "id": "cdabc78c",
   "metadata": {},
   "outputs": [
    {
     "name": "stdout",
     "output_type": "stream",
     "text": [
      "Ans: Breakpoint is a setting on a line of code that causes the debugger to pause when the program execution reaches the line\n"
     ]
    }
   ],
   "source": [
    "# 11. What is the concept of a breakpoint?\n",
    "print('Ans: Breakpoint is a setting on a line of code that causes the debugger to pause when the program execution reaches the line')"
   ]
  },
  {
   "cell_type": "code",
   "execution_count": null,
   "id": "6e991b1d",
   "metadata": {},
   "outputs": [],
   "source": []
  }
 ],
 "metadata": {
  "kernelspec": {
   "display_name": "Python 3 (ipykernel)",
   "language": "python",
   "name": "python3"
  },
  "language_info": {
   "codemirror_mode": {
    "name": "ipython",
    "version": 3
   },
   "file_extension": ".py",
   "mimetype": "text/x-python",
   "name": "python",
   "nbconvert_exporter": "python",
   "pygments_lexer": "ipython3",
   "version": "3.9.12"
  }
 },
 "nbformat": 4,
 "nbformat_minor": 5
}
