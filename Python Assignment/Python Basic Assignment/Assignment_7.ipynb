{
 "cells": [
  {
   "cell_type": "code",
   "execution_count": 3,
   "id": "deb1d00c",
   "metadata": {},
   "outputs": [
    {
     "name": "stdout",
     "output_type": "stream",
     "text": [
      "Answer = The re. compile() function returns Regex objects.\n"
     ]
    }
   ],
   "source": [
    "#1. What is the name of the feature responsible for generating Regex objects?\n",
    "\n",
    "print(\"Answer = The re. compile() function returns Regex objects.\")"
   ]
  },
  {
   "cell_type": "code",
   "execution_count": 4,
   "id": "986c4f37",
   "metadata": {},
   "outputs": [
    {
     "name": "stdout",
     "output_type": "stream",
     "text": [
      "Answer = Raw strings are used so that backslashes do not have to be escaped.\n"
     ]
    }
   ],
   "source": [
    "#2. Why do raw strings often appear in Regex objects?\n",
    "print(\"Answer = Raw strings are used so that backslashes do not have to be escaped.\")"
   ]
  },
  {
   "cell_type": "code",
   "execution_count": 7,
   "id": "8d188d65",
   "metadata": {},
   "outputs": [
    {
     "name": "stdout",
     "output_type": "stream",
     "text": [
      "Answer = The return value of re.search(pattern,string) method is a match object if the pattern is observed in the \n",
      "         string else it returns a None\n"
     ]
    }
   ],
   "source": [
    "#3. What is the return value of the search() method?\n",
    "print(\"\"\"Answer = The return value of re.search(pattern,string) method is a match object if the pattern is observed in the \n",
    "         string else it returns a None\"\"\")"
   ]
  },
  {
   "cell_type": "code",
   "execution_count": 8,
   "id": "d085e16f",
   "metadata": {},
   "outputs": [
    {
     "name": "stdout",
     "output_type": "stream",
     "text": [
      "Answer = The group() method returns strings of the matched text.\n"
     ]
    }
   ],
   "source": [
    "#4. From a Match item, how do you get the actual strings that match the pattern?\n",
    "\n",
    "print(\"Answer = The group() method returns strings of the matched text.\")"
   ]
  },
  {
   "cell_type": "code",
   "execution_count": 29,
   "id": "904a5509",
   "metadata": {},
   "outputs": [
    {
     "name": "stdout",
     "output_type": "stream",
     "text": [
      "Answer = Group 0 is the entire match, group 1 covers the first set of parentheses, and group 2 covers the second set \n",
      "         of parentheses.\n",
      "Example :\n",
      "        import re\n",
      "        phoneNumRegex = re.compile(r'(\\d\\d\\d)-(\\d\\d\\d-\\d\\d\\d\\d)')\n",
      "        mo=phoneNumRegex.search('My number is 415-555-4242.')\n",
      "\tGroup zero = 415-555-4242\n",
      "\tGroup one = 415\n",
      "\tGroup two = 555-4242\n"
     ]
    }
   ],
   "source": [
    "#5. In the regex which created from the r'(\\d\\d\\d)-(\\d\\d\\d-\\d\\d\\d\\d)', what does group zero cover? Group 2? Group 1?\n",
    "\n",
    "print(\"\"\"Answer = Group 0 is the entire match, group 1 covers the first set of parentheses, and group 2 covers the second set \n",
    "         of parentheses.\"\"\")\n",
    "\n",
    "import re\n",
    "phoneNumRegex = re.compile(r'(\\d\\d\\d)-(\\d\\d\\d-\\d\\d\\d\\d)')\n",
    "mo=phoneNumRegex.search('My number is 415-555-4242.')\n",
    "print(\"\"\"Example :\n",
    "        import re\n",
    "        phoneNumRegex = re.compile(r'(\\d\\d\\d)-(\\d\\d\\d-\\d\\d\\d\\d)')\n",
    "        mo=phoneNumRegex.search('My number is 415-555-4242.')\"\"\")\n",
    "print(\"\\tGroup zero =\",mo.group())\n",
    "print(\"\\tGroup one =\",mo.group(1))\n",
    "print(\"\\tGroup two =\",mo.group(2)) "
   ]
  },
  {
   "cell_type": "code",
   "execution_count": 30,
   "id": "564ef1e4",
   "metadata": {},
   "outputs": [
    {
     "name": "stdout",
     "output_type": "stream",
     "text": [
      "Answer = The \\. \\( and \\) escape characters in the raw string passed to re.compile() will match actual parenthesis characters.\n"
     ]
    }
   ],
   "source": [
    "#6. In standard expression syntax, parentheses and intervals have distinct meanings. How can you tell\n",
    "#a regex that you want it to fit real parentheses and periods?\n",
    "\n",
    "print(\"Answer = The \\. \\( and \\) escape characters in the raw string passed to re.compile() will match actual parenthesis characters.\")"
   ]
  },
  {
   "cell_type": "code",
   "execution_count": 53,
   "id": "36f103b2",
   "metadata": {},
   "outputs": [
    {
     "name": "stdout",
     "output_type": "stream",
     "text": [
      "Answer = If the regex has no groups, a list of strings is returned. If the regex has groups, a list of tuples of strings is           \n",
      "         returned.\n",
      "\t Example of list of tuples Group = [('(988)', '571-4099')]\n",
      "\t Example of list Group = ['988-571-4099']\n"
     ]
    }
   ],
   "source": [
    "#7. The findall() method returns a string list or a list of string tuples. What causes it to return one of the two options?\n",
    "\n",
    "print(\"\"\"Answer = If the regex has no groups, a list of strings is returned. If the regex has groups, a list of tuples of strings is           \n",
    "         returned.\"\"\")\n",
    "\n",
    "# Example Program\n",
    "import re\n",
    "phoneNumRegex = re.compile(r'(\\(\\d\\d\\d\\)) (\\d\\d\\d-\\d\\d\\d\\d)')\n",
    "mo = phoneNumRegex.findall('My phone number is (988) 571-4099.')\n",
    "print(\"\\t Example of list of tuples Group =\",mo)\n",
    "\n",
    "# Example Program\n",
    "import re\n",
    "phoneNumRegex = re.compile(r'\\d{3}-\\d{3}-\\d{4}')\n",
    "mo = phoneNumRegex.findall('My number is 988-571-4099.')\n",
    "print(\"\\t Example of list Group =\",mo) # Prints all groups in a tuple format"
   ]
  },
  {
   "cell_type": "code",
   "execution_count": 54,
   "id": "a2b3505d",
   "metadata": {},
   "outputs": [
    {
     "name": "stdout",
     "output_type": "stream",
     "text": [
      "Answer = In Standard Expressions | means OR operator.\n"
     ]
    }
   ],
   "source": [
    "#8. In standard expressions, what does the | character mean?\n",
    "\n",
    "print(\"Answer = In Standard Expressions | means OR operator.\")"
   ]
  },
  {
   "cell_type": "code",
   "execution_count": 55,
   "id": "e0482876",
   "metadata": {},
   "outputs": [
    {
     "name": "stdout",
     "output_type": "stream",
     "text": [
      "Answer = Ans: In regular Expressions, ? characters represents zero or one match of the preceeding group.\n"
     ]
    }
   ],
   "source": [
    "#9. In regular expressions, what does the character stand for?\n",
    "\n",
    "print(\"Answer = Ans: In regular Expressions, ? characters represents zero or one match of the preceeding group.\")"
   ]
  },
  {
   "cell_type": "code",
   "execution_count": 66,
   "id": "63723827",
   "metadata": {},
   "outputs": [
    {
     "name": "stdout",
     "output_type": "stream",
     "text": [
      "Answer = In Regular Expressions, * Represents Zero ore more occurances of the preceeding group, whereas + represents\n",
      "         one or more occurances of the preceeding group.\n",
      "\n",
      "\tExample of Expressions * = <re.Match object; span=(0, 6), match='Batman'>\n",
      "\tExample of Expressions + = None\n"
     ]
    }
   ],
   "source": [
    "#10.In regular expressions, what is the difference between the + and * characters?\n",
    "\n",
    "print(\"\"\"Answer = In Regular Expressions, * Represents Zero ore more occurances of the preceeding group, whereas + represents\n",
    "         one or more occurances of the preceeding group.\"\"\")\n",
    "\n",
    "import re\n",
    "match_1 = re.search(\"Bat(wo)*man\",\"Batman returns\")\n",
    "print(\"\\n\\tExample of Expressions * =\",match_1)\n",
    "match_2 = re.search(\"Bat(wo)+man\",\"Batman returns\")\n",
    "print(\"\\tExample of Expressions + =\",match_2)"
   ]
  },
  {
   "cell_type": "code",
   "execution_count": 68,
   "id": "228910f7",
   "metadata": {},
   "outputs": [
    {
     "name": "stdout",
     "output_type": "stream",
     "text": [
      "Answer = {4} means that its preceeding group should repeat 4 times. where as {4,5} means that its preceeding group\n",
      "       should repeat mininum 4 times and maximum 5 times inclusively\n"
     ]
    }
   ],
   "source": [
    "#11. What is the difference between {4} and {4,5} in regular expression?\n",
    "\n",
    "print(\"\"\"Answer = {4} means that its preceeding group should repeat 4 times. where as {4,5} means that its preceeding group\n",
    "       should repeat mininum 4 times and maximum 5 times inclusively\"\"\")"
   ]
  },
  {
   "cell_type": "code",
   "execution_count": 73,
   "id": "cdd09e02",
   "metadata": {},
   "outputs": [
    {
     "name": "stdout",
     "output_type": "stream",
     "text": [
      "Answer = The \\D, \\W, and \\S shorthand character classes match a single character that is not a digit, word, or \n",
      "         space character, respectively.\n",
      "         \\d – Matches digit character equivalent to [0-9]\n",
      "         \\w – Matches a word character equivalent to [a-zA-Z0-9_]\n",
      "         \\s – Matches whitespace character (space, tab, newline, etc.)\n",
      "         \n",
      "         \n"
     ]
    }
   ],
   "source": [
    "#12. What do you mean by the \\d, \\w, and \\s shorthand character classes signify in regular expressions?\n",
    "\n",
    "print(\"\"\"Answer = The \\D, \\W, and \\S shorthand character classes match a single character that is not a digit, word, or \n",
    "         space character, respectively.\n",
    "         \\d – Matches digit character equivalent to [0-9]\n",
    "         \\w – Matches a word character equivalent to [a-zA-Z0-9_]\n",
    "         \\s – Matches whitespace character (space, tab, newline, etc.)\n",
    "         \n",
    "         \"\"\")"
   ]
  },
  {
   "cell_type": "code",
   "execution_count": 76,
   "id": "7f8b2b7a",
   "metadata": {},
   "outputs": [
    {
     "name": "stdout",
     "output_type": "stream",
     "text": [
      "Answer = \\D, \\W and \\S are special sequences in regular expresssions in python:\n",
      "        \\D – Matches any non-digit character, this is equivalent to the set class [^0-9]\n",
      "        \\W – Matches any non-alphanumeric character equivalent to [^a-zA-Z0-9_]\n",
      "        \\S – Matches any non-whitespace character\n"
     ]
    }
   ],
   "source": [
    "#13. What do means by \\D, \\W, and \\S shorthand character classes signify in regular expressions?\n",
    "\n",
    "print(\"\"\"Answer = \\D, \\W and \\S are special sequences in regular expresssions in python:\n",
    "        \\D – Matches any non-digit character, this is equivalent to the set class [^0-9]\n",
    "        \\W – Matches any non-alphanumeric character equivalent to [^a-zA-Z0-9_]\n",
    "        \\S – Matches any non-whitespace character\"\"\")"
   ]
  },
  {
   "cell_type": "code",
   "execution_count": 77,
   "id": "abd5db3c",
   "metadata": {},
   "outputs": [
    {
     "name": "stdout",
     "output_type": "stream",
     "text": [
      "Answer = .* is a Greedy mode, which returns the longest string that meets the condition. Whereas .*? is a non greedy mode\n",
      "         which returns the shortest string that meets the condition.\n"
     ]
    }
   ],
   "source": [
    "#14. What is the difference between .*? and .*? \n",
    "print(\"\"\"Answer = .* is a Greedy mode, which returns the longest string that meets the condition. Whereas .*? is a non greedy mode\n",
    "         which returns the shortest string that meets the condition.\"\"\")"
   ]
  },
  {
   "cell_type": "code",
   "execution_count": 78,
   "id": "b99348a7",
   "metadata": {},
   "outputs": [
    {
     "name": "stdout",
     "output_type": "stream",
     "text": [
      "Answer = The Synatax is Either [a-z0-9] or [0-9a-z]\n"
     ]
    }
   ],
   "source": [
    "#15. What is the syntax for matching both numbers and lowercase letters with a character class?\n",
    "\n",
    "print(\"Answer = The Synatax is Either [a-z0-9] or [0-9a-z]\")"
   ]
  },
  {
   "cell_type": "code",
   "execution_count": 79,
   "id": "e9932e7c",
   "metadata": {},
   "outputs": [
    {
     "name": "stdout",
     "output_type": "stream",
     "text": [
      "Answer = We can pass re.IGNORECASE as a flag to make a noraml expression case insensitive\n"
     ]
    }
   ],
   "source": [
    "#16. What is the procedure for making a normal expression in regax case insensitive?\n",
    "print(\"Answer = We can pass re.IGNORECASE as a flag to make a noraml expression case insensitive\")"
   ]
  },
  {
   "cell_type": "code",
   "execution_count": 80,
   "id": "a150659a",
   "metadata": {},
   "outputs": [
    {
     "name": "stdout",
     "output_type": "stream",
     "text": [
      "Answer = Dot . character matches everything in input except newline character .. By passing re.DOTALL as a flag to \n",
      "         re.compile(), you can make the dot character match all characters, including the newline character.\n"
     ]
    }
   ],
   "source": [
    "#17. What does the . character normally match? What does it match if re.DOTALL is passed as 2nd argument in re.compile()?\n",
    "print(\"\"\"Answer = Dot . character matches everything in input except newline character .. By passing re.DOTALL as a flag to \n",
    "         re.compile(), you can make the dot character match all characters, including the newline character.\"\"\")"
   ]
  },
  {
   "cell_type": "code",
   "execution_count": 86,
   "id": "1ce0b546",
   "metadata": {},
   "outputs": [
    {
     "name": "stdout",
     "output_type": "stream",
     "text": [
      "The Ouput will be X drummers, X pipers, five rings, X hen\n"
     ]
    }
   ],
   "source": [
    "#18. If numReg = re.compile(r'\\d+'), what will numRegex.sub('X', '11 drummers, 10 pipers, five rings, 4 hen') return?\n",
    "\n",
    "import re\n",
    "numReg = re.compile(r'\\d+')\n",
    "num=numReg.sub('X', '11 drummers, 10 pipers, five rings, 4 hen')\n",
    "print(f\"The Ouput will be {num}\")"
   ]
  },
  {
   "cell_type": "code",
   "execution_count": 101,
   "id": "44c34afb",
   "metadata": {},
   "outputs": [
    {
     "name": "stdout",
     "output_type": "stream",
     "text": [
      "Answer = re.VERBOSE will allow to add whitespace and comments to string passed to re.compile().\n",
      "\n",
      "\t- Without Using VERBOSE\n",
      "\n",
      "\t- re.compile('^([a-z0-9_\\\\.-]+)@([0-9a-z\\\\.-]+)\\\\.([a-z\\\\.]{2, 6})$', re.IGNORECASE)\n",
      "\n",
      "\t- re.compile('^([a-z0-9_\\\\.-]+)@([0-9a-z\\\\.-]+)\\\\.([a-z\\\\.]{2, 6})$', re.IGNORECASE)\n"
     ]
    }
   ],
   "source": [
    "#19. What does passing re.VERBOSE as the 2nd argument to re.compile() allow to do?\n",
    "\n",
    "print(\"Answer = re.VERBOSE will allow to add whitespace and comments to string passed to re.compile().\")\n",
    "\n",
    "print(\"\\n\\t- Without Using VERBOSE\")\n",
    "regex_email = re.compile(r'^([a-z0-9_\\.-]+)@([0-9a-z\\.-]+)\\.([a-z\\.]{2, 6})$', re.IGNORECASE)\n",
    "print(\"\\n\\t-\",regex_email)\n",
    "# Using VERBOSE\n",
    "regex_email1 = re.compile(r\"\"\"\n",
    "                            ^([a-z0-9_\\.-]+)              # local Part like username\n",
    "                            @                             # single @ sign \n",
    "                            ([0-9a-z\\.-]+)                # Domain name like google\n",
    "                            \\.                            # single Dot .\n",
    "                            ([a-z]{2,6})$                 # Top level Domain  like com/in/org\"\"\"\n",
    "                          ,re.VERBOSE | re.IGNORECASE)  \n",
    "print(\"\\n\\t-\",regex_email)"
   ]
  },
  {
   "cell_type": "code",
   "execution_count": 102,
   "id": "7ed9880b",
   "metadata": {},
   "outputs": [
    {
     "name": "stdout",
     "output_type": "stream",
     "text": [
      "Output: 42 -> <re.Match object; span=(0, 2), match='42'>\n",
      "Output: 1,234 -> <re.Match object; span=(0, 5), match='1,234'>\n",
      "Output: 6,368,745 -> <re.Match object; span=(0, 9), match='6,368,745'>\n",
      "Output: 12,34,567 -> None\n",
      "Output: 1234 -> None\n"
     ]
    }
   ],
   "source": [
    "#20. How would you write a regex that match a number with comma for every three digits? It must match the given following:\n",
    "#'42','1,234', '6,368,745'but not the following: '12,34,567' (which has only two digits between the commas) '1234' \n",
    "#(which lacks commas)\n",
    "\n",
    "import re\n",
    "pattern = r'^\\d{1,3}(,\\d{3})*$'\n",
    "pagex = re.compile(pattern)\n",
    "for ele in ['42','1,234', '6,368,745','12,34,567','1234']:\n",
    "    print('Output:',ele, '->', pagex.search(ele))"
   ]
  },
  {
   "cell_type": "code",
   "execution_count": 108,
   "id": "0a37acab",
   "metadata": {},
   "outputs": [
    {
     "name": "stdout",
     "output_type": "stream",
     "text": [
      "Answer = pattern = r'[A-Z]{1}[a-z]*\\sWatanabe'\n",
      "\n",
      "\t Output:  Haruto Watanabe -> <re.Match object; span=(0, 15), match='Haruto Watanabe'>\n",
      "\t Output:  Alice Watanabe -> <re.Match object; span=(0, 14), match='Alice Watanabe'>\n",
      "\t Output:  RoboCop Watanabe -> <re.Match object; span=(4, 16), match='Cop Watanabe'>\n",
      "\t Output:  haruto Watanabe -> None\n",
      "\t Output:  Mr. Watanabe -> None\n",
      "\t Output:  Watanabe -> None\n",
      "\t Output:  Haruto watanabe -> None\n"
     ]
    }
   ],
   "source": [
    "#21. How would you write a regex that matches the full name of someone whose last name is Watanabe? You can assume that the first name that comes before it will always be one word that begins with a capital letter. The regex must match the following:\n",
    "#'Haruto Watanabe'\n",
    "#'Alice Watanabe'\n",
    "#'RoboCop Watanabe'\n",
    "\n",
    "#but not the following:\n",
    "\n",
    "#'haruto Watanabe' (where the first name is not capitalized)\n",
    "#'Mr. Watanabe' (where the preceding word has a nonletter character)\n",
    "#'Watanabe' (which has no first name)\n",
    "#'Haruto watanabe' (where Watanabe is not capitalized)\n",
    "\n",
    "print(\"Answer = pattern = r'[A-Z]{1}[a-z]*\\sWatanabe'\\n\")\n",
    "\n",
    "import re\n",
    "pattern = r'[A-Z]{1}[a-z]*\\sWatanabe'\n",
    "namex = re.compile(pattern)\n",
    "for name in ['Haruto Watanabe','Alice Watanabe','RoboCop Watanabe','haruto Watanabe','Mr. Watanabe','Watanabe','Haruto watanabe']:\n",
    "    print('\\t Output: ',name,'->',namex.search(name))"
   ]
  },
  {
   "cell_type": "code",
   "execution_count": 110,
   "id": "79e4ee7d",
   "metadata": {},
   "outputs": [
    {
     "name": "stdout",
     "output_type": "stream",
     "text": [
      "Answer = Pattern = r'(Alice|Bob|Carol)\\s(eats|pets|throws)\\s(apples|cats|baseballs)\\.'\n"
     ]
    }
   ],
   "source": [
    "#22. How would you write a regex that matches a sentence where the first word is either Alice, Bob,or Carol; the second word is either eats, pets, or throws; the third word is apples, cats, or baseballs; and the sentence ends with a period? This regex should be case-insensitive. It must match the following:\n",
    "#'Alice eats apples.'\n",
    "#'Bob pets cats.'\n",
    "#'Carol throws baseballs.'\n",
    "#'Alice throws Apples.'\n",
    "#'BOB EATS CATS.'\n",
    "\n",
    "#but not the following:\n",
    "\n",
    "#'RoboCop eats apples.'\n",
    "#'ALICE THROWS FOOTBALLS.'\n",
    "#'Carol eats 7 cats.'\n",
    "\n",
    "print(\"Answer = Pattern = r'(Alice|Bob|Carol)\\s(eats|pets|throws)\\s(apples|cats|baseballs)\\.'\")\n",
    "\n"
   ]
  },
  {
   "cell_type": "code",
   "execution_count": null,
   "id": "14c88ece",
   "metadata": {},
   "outputs": [],
   "source": []
  }
 ],
 "metadata": {
  "kernelspec": {
   "display_name": "Python 3 (ipykernel)",
   "language": "python",
   "name": "python3"
  },
  "language_info": {
   "codemirror_mode": {
    "name": "ipython",
    "version": 3
   },
   "file_extension": ".py",
   "mimetype": "text/x-python",
   "name": "python",
   "nbconvert_exporter": "python",
   "pygments_lexer": "ipython3",
   "version": "3.9.12"
  }
 },
 "nbformat": 4,
 "nbformat_minor": 5
}
