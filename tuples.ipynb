{
 "cells": [
  {
   "cell_type": "code",
   "execution_count": 1,
   "id": "04652545",
   "metadata": {},
   "outputs": [
    {
     "name": "stdout",
     "output_type": "stream",
     "text": [
      "Overwriting ASSIGNMENTS.txt\n"
     ]
    }
   ],
   "source": [
    "%%writefile Assignment_1.txt\n",
    "1. In the below elements which of them are values or an expression? eg:- values can be\n",
    "integer or string and expressions will be mathematical operators.\n",
    "*\n",
    "hello\n",
    "-87.8\n",
    "-\n",
    "/\n",
    "+\n",
    "6\n",
    "Answer = perators: +, -, *, /\n",
    "          Values: 'hello', -88.5, 5\n",
    "--------------------------------------------------------------------------------------------------------------------------------\n",
    "\n",
    "2. What is the difference between string and variable?    \n",
    "\n",
    "Answer=\n",
    "string = string are sequences of characters, using the\n",
    "syntax of either single quotes or double\n",
    "example = (1) 'hello'\n",
    "          (2) \"Hello\"\n",
    "          (3) \"l don't do that\"\n",
    "\n",
    "variable = variable are used to store some type of data\n",
    "--------------------------------------------------------------------------------------------------------------------------------\n",
    "3.Describe three different data types.\n",
    "\n",
    "Answer = Integer\n",
    "example = 1,5,8\n",
    "         string\n",
    "example = \"Hi\",\"hello\",\" world\" \n",
    "         float\n",
    "example = 12.0,32.0,43.0 \n",
    "--------------------------------------------------------------------------------------------------------------------------------\n",
    "4.What is an expression made up of? What do all expressions do?\n",
    "\n",
    "Answer = A valid combination of operators,variable,identifier etc in python is called an Expression.\n",
    "An expression is a combination of operators and operands that is interpreted to produce some other value\n",
    "--------------------------------------------------------------------------------------------------------------------------------\n",
    "5. This assignment statements, like spam = 10. What is the difference between an\n",
    "expression and a statement?\n",
    "\n",
    "Answer = An expression evaluates to a single value. A statement does not.\n",
    "--------------------------------------------------------------------------------------------------------------------------------\n",
    "6. After running the following code, what does the variable bacon contain?\n",
    "bacon = 22\n",
    "bacon + 1\n",
    "\n",
    "Answer = The bacon variable is set to 22. The bacon + 1 expression does not reassign the value in bacon \n",
    "(that would need an assignment statement: bacon = bacon + 1)\n",
    "--------------------------------------------------------------------------------------------------------------------------------\n",
    "7. What should the values of the following two terms be?\n",
    "spam+spamspam\n",
    "spam*3\n",
    "Answer = Both expressions evaluate to the string 'spamspamspam'\n",
    "--------------------------------------------------------------------------------------------------------------------------------\n",
    "8. Why is eggs a valid variable name while 100 is invalid?\n",
    "\n",
    "Answer = Variable names cannot begin with a number.\n",
    "--------------------------------------------------------------------------------------------------------------------------------\n",
    "9. What three functions can be used to get the integer, floating-point number, or string\n",
    "version of a value?\n",
    "\n",
    "Answer = The int(), float(), and str() functions will evaluate to the integer, floating-point number, and string versions of the\n",
    "value passed to them.\n",
    "--------------------------------------------------------------------------------------------------------------------------------\n",
    "10. Why does this expression cause an error? How can you fix it?\n",
    "I have eaten + 99 + burritos.\n",
    "\n",
    "Answer = The expression causes an error because 99 is an integer, and only strings can be concatenated to other strings with \n",
    "the + operator. The correct way is I have eaten ' + str(99) + ' burritos.'"
   ]
  },
  {
   "cell_type": "code",
   "execution_count": 2,
   "id": "21cdedb1",
   "metadata": {},
   "outputs": [],
   "source": [
    "Assignments3=open(\"Assignment_.txt\")"
   ]
  },
  {
   "cell_type": "code",
   "execution_count": 3,
   "id": "d764f07f",
   "metadata": {},
   "outputs": [
    {
     "data": {
      "text/plain": [
       "['1. In the below elements which of them are values or an expression? eg:- values can be\\n',\n",
       " 'integer or string and expressions will be mathematical operators.\\n',\n",
       " '*\\n',\n",
       " 'hello\\n',\n",
       " '-87.8\\n',\n",
       " '-\\n',\n",
       " '/\\n',\n",
       " '+\\n',\n",
       " '6\\n',\n",
       " 'Answer = perators: +, -, *, /\\n',\n",
       " \"          Values: 'hello', -88.5, 5\\n\",\n",
       " '--------------------------------------------------------------------------------------------------------------------------------\\n',\n",
       " '\\n',\n",
       " '2. What is the difference between string and variable?    \\n',\n",
       " '\\n',\n",
       " 'Answer=\\n',\n",
       " 'string = string are sequences of characters, using the\\n',\n",
       " 'syntax of either single quotes or double\\n',\n",
       " \"example = (1) 'hello'\\n\",\n",
       " '          (2) \"Hello\"\\n',\n",
       " '          (3) \"l don\\'t do that\"\\n',\n",
       " '\\n',\n",
       " 'variable = variable are used to store some type of data\\n',\n",
       " '--------------------------------------------------------------------------------------------------------------------------------\\n',\n",
       " '3.Describe three different data types.\\n',\n",
       " '\\n',\n",
       " 'Answer = Integer\\n',\n",
       " 'example = 1,5,8\\n',\n",
       " '         string\\n',\n",
       " 'example = \"Hi\",\"hello\",\" world\" \\n',\n",
       " '         float\\n',\n",
       " 'example = 12.0,32.0,43.0 \\n',\n",
       " '--------------------------------------------------------------------------------------------------------------------------------\\n',\n",
       " '4.What is an expression made up of? What do all expressions do?\\n',\n",
       " '\\n',\n",
       " 'Answer = A valid combination of operators,variable,identifier etc in python is called an Expression.\\n',\n",
       " 'An expression is a combination of operators and operands that is interpreted to produce some other value\\n',\n",
       " '--------------------------------------------------------------------------------------------------------------------------------\\n',\n",
       " '5. This assignment statements, like spam = 10. What is the difference between an\\n',\n",
       " 'expression and a statement?\\n',\n",
       " '\\n',\n",
       " 'Answer = An expression evaluates to a single value. A statement does not.\\n',\n",
       " '--------------------------------------------------------------------------------------------------------------------------------\\n',\n",
       " '6. After running the following code, what does the variable bacon contain?\\n',\n",
       " 'bacon = 22\\n',\n",
       " 'bacon + 1\\n',\n",
       " '\\n',\n",
       " 'Answer = The bacon variable is set to 22. The bacon + 1 expression does not reassign the value in bacon \\n',\n",
       " '(that would need an assignment statement: bacon = bacon + 1)\\n',\n",
       " '--------------------------------------------------------------------------------------------------------------------------------\\n',\n",
       " '7. What should the values of the following two terms be?\\n',\n",
       " 'spam+spamspam\\n',\n",
       " 'spam*3\\n',\n",
       " \"Answer = Both expressions evaluate to the string 'spamspamspam'\\n\",\n",
       " '--------------------------------------------------------------------------------------------------------------------------------\\n',\n",
       " '8. Why is eggs a valid variable name while 100 is invalid?\\n',\n",
       " '\\n',\n",
       " 'Answer = Variable names cannot begin with a number.\\n',\n",
       " '--------------------------------------------------------------------------------------------------------------------------------\\n',\n",
       " '9. What three functions can be used to get the integer, floating-point number, or string\\n',\n",
       " 'version of a value?\\n',\n",
       " '\\n',\n",
       " 'Answer = The int(), float(), and str() functions will evaluate to the integer, floating-point number, and string versions of the\\n',\n",
       " 'value passed to them.\\n',\n",
       " '--------------------------------------------------------------------------------------------------------------------------------\\n',\n",
       " '10. Why does this expression cause an error? How can you fix it?\\n',\n",
       " 'I have eaten + 99 + burritos.\\n',\n",
       " '\\n',\n",
       " 'Answer = The expression causes an error because 99 is an integer, and only strings can be concatenated to other strings with \\n',\n",
       " \"the + operator. The correct way is I have eaten ' + str(99) + ' burritos.'\\n\"]"
      ]
     },
     "execution_count": 3,
     "metadata": {},
     "output_type": "execute_result"
    }
   ],
   "source": [
    "Assignments3.readlines()"
   ]
  },
  {
   "cell_type": "markdown",
   "id": "17adf975",
   "metadata": {},
   "source": [
    "## "
   ]
  },
  {
   "cell_type": "code",
   "execution_count": null,
   "id": "f145d513",
   "metadata": {},
   "outputs": [],
   "source": []
  },
  {
   "cell_type": "code",
   "execution_count": null,
   "id": "666852e8",
   "metadata": {},
   "outputs": [],
   "source": [
    "\n"
   ]
  },
  {
   "cell_type": "code",
   "execution_count": null,
   "id": "78c13d3d",
   "metadata": {},
   "outputs": [],
   "source": []
  },
  {
   "cell_type": "code",
   "execution_count": null,
   "id": "58afd3cf",
   "metadata": {},
   "outputs": [],
   "source": []
  },
  {
   "cell_type": "code",
   "execution_count": null,
   "id": "04243075",
   "metadata": {},
   "outputs": [],
   "source": []
  },
  {
   "cell_type": "code",
   "execution_count": null,
   "id": "7696d3e8",
   "metadata": {},
   "outputs": [],
   "source": []
  }
 ],
 "metadata": {
  "kernelspec": {
   "display_name": "Python 3 (ipykernel)",
   "language": "python",
   "name": "python3"
  },
  "language_info": {
   "codemirror_mode": {
    "name": "ipython",
    "version": 3
   },
   "file_extension": ".py",
   "mimetype": "text/x-python",
   "name": "python",
   "nbconvert_exporter": "python",
   "pygments_lexer": "ipython3",
   "version": "3.9.12"
  }
 },
 "nbformat": 4,
 "nbformat_minor": 5
}
