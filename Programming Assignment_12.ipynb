{
 "cells": [
  {
   "cell_type": "markdown",
   "id": "2c225194",
   "metadata": {},
   "source": [
    "# 1. Write a Python program to Extract Unique values dictionary values?"
   ]
  },
  {
   "cell_type": "code",
   "execution_count": 2,
   "id": "4d2cc1fd",
   "metadata": {},
   "outputs": [
    {
     "name": "stdout",
     "output_type": "stream",
     "text": [
      "{1, 3}\n"
     ]
    }
   ],
   "source": [
    "def unique_values(dictionary):\n",
    "    # create a set to store the unique values\n",
    "    unique = set()\n",
    "\n",
    "    # iterate over each key-value pair in the dictionary\n",
    "    for value in dictionary.values():\n",
    "        # add the value to the unique set\n",
    "        unique.add(value)\n",
    "\n",
    "    return unique\n",
    "dictionary = {\"apple\": 1, \"orange\": 2, \"banana\": 1, \"grape\": 3}\n",
    "\n",
    "unique = unique_values(dictionary)\n",
    "print(unique)\n"
   ]
  },
  {
   "cell_type": "markdown",
   "id": "61c7deac",
   "metadata": {},
   "source": [
    "# 2. Write a Python program to find the sum of all items in a dictionary?"
   ]
  },
  {
   "cell_type": "code",
   "execution_count": 3,
   "id": "6e261885",
   "metadata": {},
   "outputs": [
    {
     "name": "stdout",
     "output_type": "stream",
     "text": [
      "10\n"
     ]
    }
   ],
   "source": [
    "def sum_items(dictionary):\n",
    "    # initialize the sum to 0\n",
    "    total = 0\n",
    "\n",
    "    # iterate over each key-value pair in the dictionary\n",
    "    for value in dictionary.values():\n",
    "        # add the value to the total\n",
    "        total += value\n",
    "\n",
    "    return total\n",
    "dictionary = {\"apple\": 1, \"orange\": 2, \"banana\": 3, \"grape\": 4}\n",
    "\n",
    "total = sum_items(dictionary)\n",
    "print(total)\n"
   ]
  },
  {
   "cell_type": "markdown",
   "id": "af8fe3d3",
   "metadata": {},
   "source": [
    "# 3.Write a Python program to Merging two Dictionaries?"
   ]
  },
  {
   "cell_type": "code",
   "execution_count": 5,
   "id": "5e60de3f",
   "metadata": {},
   "outputs": [
    {
     "name": "stdout",
     "output_type": "stream",
     "text": [
      "{'apple': 1, 'orange': 2, 'banana': 3, 'grape': 4}\n"
     ]
    }
   ],
   "source": [
    "def merge_dicts(dict1, dict2):\n",
    "    # create a new dictionary to hold the merged key-value pairs\n",
    "    merged_dict = dict1.copy()\n",
    "\n",
    "    # update the new dictionary with the key-value pairs from the second dictionary\n",
    "    merged_dict.update(dict2)\n",
    "\n",
    "    return merged_dict\n",
    "dict1 = {\"apple\": 1, \"orange\": 2}\n",
    "dict2 = {\"banana\": 3, \"grape\": 4}\n",
    "\n",
    "merged = merge_dicts(dict1, dict2)\n",
    "print(merged)\n"
   ]
  },
  {
   "cell_type": "markdown",
   "id": "5ca0be57",
   "metadata": {},
   "source": [
    "# 4. Write a Python program to convert key-values list to flat dictionary?"
   ]
  },
  {
   "cell_type": "code",
   "execution_count": 6,
   "id": "c055c982",
   "metadata": {},
   "outputs": [
    {
     "name": "stdout",
     "output_type": "stream",
     "text": [
      "{'apple': 1, 'orange': 2, 'banana': 3, 'grape': 4}\n"
     ]
    }
   ],
   "source": [
    "def to_dict(key_value_list):\n",
    "    # create a new dictionary to hold the key-value pairs\n",
    "    flat_dict = {}\n",
    "\n",
    "    # iterate over each key-value pair in the list\n",
    "    for pair in key_value_list:\n",
    "        # add the key-value pair to the dictionary\n",
    "        flat_dict[pair[0]] = pair[1]\n",
    "\n",
    "    return flat_dict\n",
    "key_value_list = [(\"apple\", 1), (\"orange\", 2), (\"banana\", 3), (\"grape\", 4)]\n",
    "\n",
    "flat_dict = to_dict(key_value_list)\n",
    "print(flat_dict)\n"
   ]
  },
  {
   "cell_type": "code",
   "execution_count": 7,
   "id": "b55e3cb4",
   "metadata": {},
   "outputs": [
    {
     "name": "stdout",
     "output_type": "stream",
     "text": [
      "OrderedDict([('grape', 4), ('apple', 1), ('orange', 2), ('banana', 3)])\n"
     ]
    }
   ],
   "source": [
    "from collections import OrderedDict\n",
    "\n",
    "def insert_at_beginning(odict, key, value):\n",
    "    # create a new OrderedDict to hold the key-value pairs\n",
    "    new_odict = OrderedDict()\n",
    "\n",
    "    # add the new key-value pair to the beginning of the new OrderedDict\n",
    "    new_odict[key] = value\n",
    "\n",
    "    # add the remaining key-value pairs from the original OrderedDict to the new OrderedDict\n",
    "    for k, v in odict.items():\n",
    "        new_odict[k] = v\n",
    "\n",
    "    return new_odict\n",
    "odict = OrderedDict([('apple', 1), ('orange', 2), ('banana', 3)])\n",
    "key = 'grape'\n",
    "value = 4\n",
    "\n",
    "new_odict = insert_at_beginning(odict, key, value)\n",
    "print(new_odict)\n"
   ]
  },
  {
   "cell_type": "markdown",
   "id": "27eba3c1",
   "metadata": {},
   "source": [
    "# 6. Write a Python program to check order of character in string using                      OrderedDict()?"
   ]
  },
  {
   "cell_type": "code",
   "execution_count": 10,
   "id": "39b7c52d",
   "metadata": {},
   "outputs": [
    {
     "name": "stdout",
     "output_type": "stream",
     "text": [
      "{'a': 1000, 'f': 200, 'd': 300, 'c': 400, 'b': 500, 'e': 600} \n",
      "\n",
      "OrderedDict([('a', 1000), ('b', 500), ('c', 400), ('d', 300), ('e', 600), ('f', 200)])\n"
     ]
    }
   ],
   "source": [
    "from collections import OrderedDict\n",
    "\n",
    "initial_list = {'a': 1000, 'f': 200, 'd': 300, 'c': 400, 'b': 500, 'e': 600}\n",
    "print(initial_list,'\\n')\n",
    "\n",
    "final_list = OrderedDict(dict(sorted(initial_list.items())))\n",
    "print(final_list)"
   ]
  },
  {
   "cell_type": "markdown",
   "id": "e4536390",
   "metadata": {},
   "source": [
    "# 7. Write a Python program to sort Python Dictionaries by Key or Value?"
   ]
  },
  {
   "cell_type": "code",
   "execution_count": 12,
   "id": "fa1ff299",
   "metadata": {},
   "outputs": [
    {
     "name": "stdout",
     "output_type": "stream",
     "text": [
      "{'apple': 3, 'banana': 1, 'cherry': 2}\n",
      "{'banana': 1, 'cherry': 2, 'apple': 3}\n",
      "{'apple': 3, 'cherry': 2, 'banana': 1}\n"
     ]
    }
   ],
   "source": [
    "def sort_dict(dictionary, by_key=True, reverse=False):\n",
    "    # use the sorted function with a lambda function to specify the sort key\n",
    "    if by_key:\n",
    "        sorted_dict = sorted(dictionary.items(), key=lambda x: x[0], reverse=reverse)\n",
    "    else:\n",
    "        sorted_dict = sorted(dictionary.items(), key=lambda x: x[1], reverse=reverse)\n",
    "\n",
    "    # convert the sorted list of key-value pairs back to a dictionary\n",
    "    return dict(sorted_dict)\n",
    "\n",
    "dictionary = {'apple': 3, 'banana': 1, 'cherry': 2}\n",
    "sorted_dict = sort_dict(dictionary, by_key=True)\n",
    "print(sorted_dict)\n",
    "\n",
    "sorted_dict = sort_dict(dictionary, by_key=False)\n",
    "print(sorted_dict)\n",
    "\n",
    "sorted_dict = sort_dict(dictionary, by_key=False, reverse=True)\n",
    "print(sorted_dict)\n"
   ]
  },
  {
   "cell_type": "code",
   "execution_count": null,
   "id": "4f4a6a47",
   "metadata": {},
   "outputs": [],
   "source": []
  }
 ],
 "metadata": {
  "kernelspec": {
   "display_name": "Python 3 (ipykernel)",
   "language": "python",
   "name": "python3"
  },
  "language_info": {
   "codemirror_mode": {
    "name": "ipython",
    "version": 3
   },
   "file_extension": ".py",
   "mimetype": "text/x-python",
   "name": "python",
   "nbconvert_exporter": "python",
   "pygments_lexer": "ipython3",
   "version": "3.9.13"
  }
 },
 "nbformat": 4,
 "nbformat_minor": 5
}
