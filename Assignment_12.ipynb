{
 "cells": [
  {
   "cell_type": "code",
   "execution_count": 1,
   "id": "93324fe7",
   "metadata": {},
   "outputs": [
    {
     "name": "stdout",
     "output_type": "stream",
     "text": [
      "Ans: For 'PdfFileReader()' file objects should be opened in 'rb' -> read binary mode, Whereas for 'PdfFileWriter()' file objects should be opened in 'wb' -> write binary mode.\n"
     ]
    }
   ],
   "source": [
    "# 1. In what modes should the PdfFileReader() and PdfFileWriter() File objects will be opened?\n",
    "print(\"\"\"Ans: For 'PdfFileReader()' file objects should be opened in 'rb' -> read binary mode, Whereas for 'PdfFileWriter()'\n",
    "file objects should be opened in 'wb' -> write binary mode.\"\"\")"
   ]
  },
  {
   "cell_type": "code",
   "execution_count": 7,
   "id": "cdc2d528",
   "metadata": {},
   "outputs": [
    {
     "name": "stdout",
     "output_type": "stream",
     "text": [
      "Ans: PdfFileReader class provides a method called 'getPage(page_no)' to get a page object.\n"
     ]
    }
   ],
   "source": [
    "# 2. From a PdfFileReader object, how do you get a Page object for page 5?\n",
    "print(\"Ans: PdfFileReader class provides a method called 'getPage(page_no)' to get a page object.\")\n",
    "# Example Code:\n",
    "from PyPDF2 import PdfFileReader\n",
    "pdf_reader = PdfFileReader(file_path)\n",
    "for page in pdf_reader.getNumPages():\n",
    "    pdf_reader.getPage(page)"
   ]
  },
  {
   "cell_type": "code",
   "execution_count": 9,
   "id": "be613367",
   "metadata": {},
   "outputs": [
    {
     "name": "stdout",
     "output_type": "stream",
     "text": [
      "Ans: 'getNumPages()' method of 'PdfFileReader' class stores the no pages in a PDF document\n"
     ]
    }
   ],
   "source": [
    "# 3. What PdfFileReader variable stores the number of pages in the PDF document?\n",
    "print(\"Ans: 'getNumPages()' method of 'PdfFileReader' class stores the no pages in a PDF document\")\n",
    "#Example Code:\n",
    "from PyPDF2 import PdfFileReader\n",
    "pdf_reader = PdfFileReader(file_path)\n",
    "print(pdf_reader.getNumPages()) # Prints the no of pages in a input document"
   ]
  },
  {
   "cell_type": "code",
   "execution_count": 12,
   "id": "e3475fcb",
   "metadata": {},
   "outputs": [
    {
     "name": "stdout",
     "output_type": "stream",
     "text": [
      "Ans: If a 'PdfFileReader' object’s PDF is encrypted with the password 'swordfish' and you're not aware of it.\n",
      "first read the Pdf using the PdfFileReader Class. PdfFileReader class provides a attribute called 'isEncrypted' to check \n",
      "whether a pdf is encrypted or not. the method returns true if a pdf is encrypted and vice versa. if pdf is encrypted use the \n",
      "'decrypt()' method provided by PdfFileReader class first then try to read the contents/pages of the pdf, else PyPDF2 will raise\n",
      "the following error 'PyPDF2.utils.PdfReadError: file has not been decrypted'\n"
     ]
    }
   ],
   "source": [
    "# 4. If a PdfFileReader object’s PDF is encrypted with the password swordfish, what must you do before you can obtain Page objects from it?\n",
    "print(\"\"\"Ans: If a 'PdfFileReader' object’s PDF is encrypted with the password 'swordfish' and you're not aware of it.\n",
    "first read the Pdf using the PdfFileReader Class. PdfFileReader class provides a attribute called 'isEncrypted' to check \n",
    "whether a pdf is encrypted or not. the method returns true if a pdf is encrypted and vice versa. if pdf is encrypted use the \n",
    "'decrypt()' method provided by PdfFileReader class first then try to read the contents/pages of the pdf, else PyPDF2 will raise\n",
    "the following error 'PyPDF2.utils.PdfReadError: file has not been decrypted'\"\"\")\n",
    "\n",
    "#Example Code:\n",
    "from PyPDF2 import PdfFileReader\n",
    "pdf_reader = PdfFileReader(file_path)\n",
    "if pdf_reader.isEncrypted: # to check whether the pdf is encrypted or not\n",
    "    pdf_reader.decrypt(\"swordfish\")\n",
    "for page in pdf_reader.pages:\n",
    "    print(page.extractText()) # to print the text data of a page from pdf"
   ]
  },
  {
   "cell_type": "code",
   "execution_count": 13,
   "id": "ff5e3f6f",
   "metadata": {},
   "outputs": [
    {
     "name": "stdout",
     "output_type": "stream",
     "text": [
      "Ans: PyPDF2 Package provides 2 methods to rotate a page:\n",
      "1. 'rotateClockWise()' -> For Clockwise rotation\n",
      "2. 'rotateCounterClockWise()' -> For Counter Clockwise rotation  \n",
      "\n",
      "The PyPDF2 package only allows you to rotate a page in increments of 90 degrees. You will receive an AssertionError otherwise.\n"
     ]
    }
   ],
   "source": [
    "# 5. What methods do you use to rotate a page?\n",
    "print(\"\"\"Ans: PyPDF2 Package provides 2 methods to rotate a page:\n",
    "1. 'rotateClockWise()' -> For Clockwise rotation\n",
    "2. 'rotateCounterClockWise()' -> For Counter Clockwise rotation  \n",
    "\n",
    "The PyPDF2 package only allows you to rotate a page in increments of 90 degrees. You will receive an AssertionError otherwise.\"\"\")"
   ]
  },
  {
   "cell_type": "code",
   "execution_count": 15,
   "id": "ea6a484e",
   "metadata": {},
   "outputs": [
    {
     "name": "stdout",
     "output_type": "stream",
     "text": [
      "Ans: The structure of a document is represented by three different data types in 'python-Docx'. At the highest level, a \n",
      "    'Document' object represents the entire document. The Document object contains a list of 'Paragraph' objects for the \n",
      "    paragraphs in the document. (A new paragraph begins whenever the user presses 'ENTER' or 'RETURN' while typing in a Word \n",
      "                                 document.) Each of these Paragraph objects contains a list of one or more 'Run' objects.\n",
      "\n",
      "    The text in a Word document is more than just a string. It has font, size, color, and other styling information\n",
      "    associated with it. A style in Word is a collection of these attributes. A Run object is a contiguous run of text\n",
      "    with the same style. A new Run object is needed whenever the text style changes.\n"
     ]
    }
   ],
   "source": [
    "# 6. What is the difference between a Run object and a Paragraph object?\n",
    "print(\"\"\"Ans: The structure of a document is represented by three different data types in 'python-Docx'. At the highest level, a \n",
    "    'Document' object represents the entire document. The Document object contains a list of 'Paragraph' objects for the \n",
    "    paragraphs in the document. (A new paragraph begins whenever the user presses 'ENTER' or 'RETURN' while typing in a Word \n",
    "                                 document.) Each of these Paragraph objects contains a list of one or more 'Run' objects.\n",
    "\n",
    "    The text in a Word document is more than just a string. It has font, size, color, and other styling information\n",
    "    associated with it. A style in Word is a collection of these attributes. A Run object is a contiguous run of text\n",
    "    with the same style. A new Run object is needed whenever the text style changes.\"\"\")"
   ]
  },
  {
   "cell_type": "code",
   "execution_count": 17,
   "id": "0f888f3a",
   "metadata": {},
   "outputs": [],
   "source": [
    "# 7. How do you obtain a list of Paragraph objects for a Document object that’s stored in a variable named doc?\n",
    "from docx import Document\n",
    "def Dcument(Path_file):\n",
    "    # Example Program\n",
    "    doc = Document(Path_file) # Path of the Docx file\n",
    "    print(doc.paragraphs) # Prints the list of Paragraph objects for a Document\n",
    "    for paragraph in doc.paragraphs:\n",
    "         print(paragraph.text) # Prints the text in the paragraph"
   ]
  },
  {
   "cell_type": "code",
   "execution_count": 23,
   "id": "92e2575a",
   "metadata": {},
   "outputs": [
    {
     "name": "stdout",
     "output_type": "stream",
     "text": [
      "Ans:`Run` object has bold, underline, italic, strike, and outline variables. The text in a Word document is more than \n",
      "    just a string. It has font, size, color, and other styling information associated with it.\n",
      "\n",
      "    A style in Word is a collection of these attributes. A Run object is a contiguous run of text with the same style.\n",
      "    A new Run object is needed whenever the text style changes.\n"
     ]
    }
   ],
   "source": [
    "# 8. What type of object has bold, underline, italic, strike, and outline variables?\n",
    "print(\"\"\"Ans:`Run` object has bold, underline, italic, strike, and outline variables. The text in a Word document is more than \n",
    "    just a string. It has font, size, color, and other styling information associated with it.\n",
    "\n",
    "    A style in Word is a collection of these attributes. A Run object is a contiguous run of text with the same style.\n",
    "    A new Run object is needed whenever the text style changes.\"\"\")"
   ]
  },
  {
   "cell_type": "code",
   "execution_count": 24,
   "id": "91a77f22",
   "metadata": {},
   "outputs": [],
   "source": [
    "# 9. What is the difference between False, True, and None for the bold variable?\n",
    "bold = True  # Style Set to Bold\n",
    "bold = False # Style Not Set to Bold\n",
    "bold = None # Style is Not Applicable"
   ]
  },
  {
   "cell_type": "code",
   "execution_count": null,
   "id": "d53d6519",
   "metadata": {},
   "outputs": [],
   "source": [
    "# 10. How do you create a Document object for a new Word document?\n",
    "# Example Program\n",
    "from docx import Document\n",
    "document = Document()\n",
    "document.add_paragraph(\"PW skill Full Stack Wed developer Course\")\n",
    "document.save('mydocument.docx')"
   ]
  },
  {
   "cell_type": "code",
   "execution_count": null,
   "id": "19156750",
   "metadata": {},
   "outputs": [],
   "source": [
    "# 11. How do you add a paragraph with the text 'Hello, there!' to a Document object stored in a variable named doc?\n",
    "# Example Program\n",
    "from docx import Document\n",
    "doc = Document()\n",
    "doc.add_paragraph('Hello, there!')\n",
    "doc.save('hello.docx')"
   ]
  },
  {
   "cell_type": "code",
   "execution_count": 25,
   "id": "88cf4a3e",
   "metadata": {},
   "outputs": [
    {
     "name": "stdout",
     "output_type": "stream",
     "text": [
      "Ans: The levels for a heading in a word document can be specified by using the `level` attribute inside the `add_heading`\n",
      "    method. There are a total of 5 levels statring for 0 t0 4. where level 0 makes a headline with the horizontal line below\n",
      "    the text, whereas the heading level 1 is the main heading. Similarly, the other headings are sub-heading with their\n",
      "    's font-sizes in decreasing order.\n"
     ]
    }
   ],
   "source": [
    "# 12. What integers represent the levels of headings available in Word documents?\n",
    "print(\"\"\"Ans: The levels for a heading in a word document can be specified by using the `level` attribute inside the `add_heading`\n",
    "    method. There are a total of 5 levels statring for 0 t0 4. where level 0 makes a headline with the horizontal line below\n",
    "    the text, whereas the heading level 1 is the main heading. Similarly, the other headings are sub-heading with their\n",
    "    's font-sizes in decreasing order.\"\"\")"
   ]
  },
  {
   "cell_type": "code",
   "execution_count": null,
   "id": "2bc2f037",
   "metadata": {},
   "outputs": [],
   "source": []
  }
 ],
 "metadata": {
  "kernelspec": {
   "display_name": "Python 3 (ipykernel)",
   "language": "python",
   "name": "python3"
  },
  "language_info": {
   "codemirror_mode": {
    "name": "ipython",
    "version": 3
   },
   "file_extension": ".py",
   "mimetype": "text/x-python",
   "name": "python",
   "nbconvert_exporter": "python",
   "pygments_lexer": "ipython3",
   "version": "3.9.12"
  }
 },
 "nbformat": 4,
 "nbformat_minor": 5
}
